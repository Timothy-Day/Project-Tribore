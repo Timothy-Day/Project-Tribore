{
 "cells": [
  {
   "cell_type": "code",
   "execution_count": 365,
   "metadata": {},
   "outputs": [],
   "source": [
    "import pandas as pd\n",
    "from sklearn.linear_model import LinearRegression\n",
    "from jupyterthemes import jtplot\n",
    "jtplot.style(theme='onedork')\n",
    "import numpy as np\n",
    "%matplotlib inline\n",
    "import matplotlib.pyplot as plt\n",
    "import seaborn as sns"
   ]
  },
  {
   "cell_type": "code",
   "execution_count": 366,
   "metadata": {},
   "outputs": [
    {
     "data": {
      "text/plain": [
       "Index(['LotFrontage', 'OverallQual', 'YearBuilt', 'YearRemodAdd', 'MasVnrArea',\n",
       "       'BsmtFinSF1', 'TotalBsmtSF', '2ndFlrSF', 'FullBath', 'HalfBath',\n",
       "       'Fireplaces', 'GarageCars', 'WoodDeckSF', 'OpenPorchSF', 'SalePrice',\n",
       "       'SalePrice_Log', 'MSZ_Num', 'Nbhd_Num', 'Mason_Num', 'ExtQual_Num',\n",
       "       'BsmtQual_Num', 'CA_Num', 'Elec_Num', 'KQual_Num', 'SType_Num',\n",
       "       'GrLivArea_Log', 'LotArea_Log'],\n",
       "      dtype='object')"
      ]
     },
     "execution_count": 366,
     "metadata": {},
     "output_type": "execute_result"
    }
   ],
   "source": [
    "df_train = pd.read_csv('/Users/dayti/NYCDSA/_Projects/Tribore/Model/data/train_clean.csv', index_col = 0)\n",
    "df_test = pd.read_csv('/Users/dayti/NYCDSA/_Projects/Tribore/Model/data/test_clean.csv', index_col = 0)\n",
    "\n",
    "\n",
    "# Re-write as function\n",
    "features = pd.read_csv('/Users/dayti/NYCDSA/_Projects/Tribore/Model/data/features.csv', index_col = 0)\n",
    "features = features.values.tolist()\n",
    "flat_list = []\n",
    "for sublist in features:\n",
    "    for item in sublist:\n",
    "        flat_list.append(item)\n",
    "        features = flat_list\n",
    "\n",
    "df_train_ml = df_train[features].copy()\n",
    "df_test_ml  = df_test[features].copy()\n",
    "\n",
    "target = 'SalePrice_Log'\n",
    "test_ids = list(df_test.index.values)  \n",
    "\n",
    "df_train.columns"
   ]
  },
  {
   "cell_type": "markdown",
   "metadata": {},
   "source": [
    "# Checking the Model\n",
    "This is just a check that I didn't do anything foolish in the transition from the Data Cleaning / Analysis Jupyter Notebook.\n",
    "Ran the same at the end of the Data notebook."
   ]
  },
  {
   "cell_type": "code",
   "execution_count": 367,
   "metadata": {},
   "outputs": [],
   "source": [
    "#y_train =  df_train[target]\n",
    "#X_train = df_train_ml\n",
    "\n",
    "#lm = LinearRegression()\n",
    "#lm.fit(X_train, y_train)\n",
    "#lm.score(X_train, y_train)"
   ]
  },
  {
   "cell_type": "markdown",
   "metadata": {},
   "source": [
    "# Standardization"
   ]
  },
  {
   "cell_type": "code",
   "execution_count": 368,
   "metadata": {},
   "outputs": [
    {
     "data": {
      "text/html": [
       "<div>\n",
       "<style scoped>\n",
       "    .dataframe tbody tr th:only-of-type {\n",
       "        vertical-align: middle;\n",
       "    }\n",
       "\n",
       "    .dataframe tbody tr th {\n",
       "        vertical-align: top;\n",
       "    }\n",
       "\n",
       "    .dataframe thead th {\n",
       "        text-align: right;\n",
       "    }\n",
       "</style>\n",
       "<table border=\"1\" class=\"dataframe\">\n",
       "  <thead>\n",
       "    <tr style=\"text-align: right;\">\n",
       "      <th></th>\n",
       "      <th>0</th>\n",
       "      <th>1</th>\n",
       "      <th>2</th>\n",
       "      <th>3</th>\n",
       "      <th>4</th>\n",
       "      <th>5</th>\n",
       "      <th>6</th>\n",
       "      <th>7</th>\n",
       "      <th>8</th>\n",
       "      <th>9</th>\n",
       "      <th>...</th>\n",
       "      <th>15</th>\n",
       "      <th>16</th>\n",
       "      <th>17</th>\n",
       "      <th>18</th>\n",
       "      <th>19</th>\n",
       "      <th>20</th>\n",
       "      <th>21</th>\n",
       "      <th>22</th>\n",
       "      <th>23</th>\n",
       "      <th>24</th>\n",
       "    </tr>\n",
       "  </thead>\n",
       "  <tbody>\n",
       "    <tr>\n",
       "      <th>0</th>\n",
       "      <td>-0.230217</td>\n",
       "      <td>0.658506</td>\n",
       "      <td>1.052959</td>\n",
       "      <td>0.880362</td>\n",
       "      <td>0.521228</td>\n",
       "      <td>0.617283</td>\n",
       "      <td>-0.473766</td>\n",
       "      <td>1.167626</td>\n",
       "      <td>0.793546</td>\n",
       "      <td>1.229699</td>\n",
       "      <td>...</td>\n",
       "      <td>0.348833</td>\n",
       "      <td>-0.307562</td>\n",
       "      <td>1.40986</td>\n",
       "      <td>0.648281</td>\n",
       "      <td>0.264006</td>\n",
       "      <td>0.307562</td>\n",
       "      <td>0.741127</td>\n",
       "      <td>-0.306224</td>\n",
       "      <td>0.539624</td>\n",
       "      <td>-0.129585</td>\n",
       "    </tr>\n",
       "    <tr>\n",
       "      <th>1</th>\n",
       "      <td>0.482939</td>\n",
       "      <td>-0.068293</td>\n",
       "      <td>0.158428</td>\n",
       "      <td>-0.428115</td>\n",
       "      <td>-0.574433</td>\n",
       "      <td>1.245719</td>\n",
       "      <td>0.504925</td>\n",
       "      <td>-0.794354</td>\n",
       "      <td>0.793546</td>\n",
       "      <td>-0.760202</td>\n",
       "      <td>...</td>\n",
       "      <td>0.348833</td>\n",
       "      <td>-0.307562</td>\n",
       "      <td>-0.70929</td>\n",
       "      <td>0.648281</td>\n",
       "      <td>0.264006</td>\n",
       "      <td>0.307562</td>\n",
       "      <td>-0.770150</td>\n",
       "      <td>-0.306224</td>\n",
       "      <td>-0.380198</td>\n",
       "      <td>0.118848</td>\n",
       "    </tr>\n",
       "    <tr>\n",
       "      <th>2</th>\n",
       "      <td>-0.087585</td>\n",
       "      <td>0.658506</td>\n",
       "      <td>0.986698</td>\n",
       "      <td>0.831900</td>\n",
       "      <td>0.331164</td>\n",
       "      <td>0.108989</td>\n",
       "      <td>-0.319490</td>\n",
       "      <td>1.195195</td>\n",
       "      <td>0.793546</td>\n",
       "      <td>1.229699</td>\n",
       "      <td>...</td>\n",
       "      <td>0.348833</td>\n",
       "      <td>-0.307562</td>\n",
       "      <td>1.40986</td>\n",
       "      <td>0.648281</td>\n",
       "      <td>0.264006</td>\n",
       "      <td>0.307562</td>\n",
       "      <td>0.741127</td>\n",
       "      <td>-0.306224</td>\n",
       "      <td>0.671287</td>\n",
       "      <td>0.427653</td>\n",
       "    </tr>\n",
       "    <tr>\n",
       "      <th>3</th>\n",
       "      <td>-0.467935</td>\n",
       "      <td>0.658506</td>\n",
       "      <td>-1.862551</td>\n",
       "      <td>-0.718888</td>\n",
       "      <td>-0.574433</td>\n",
       "      <td>-0.514826</td>\n",
       "      <td>-0.714823</td>\n",
       "      <td>0.942481</td>\n",
       "      <td>-1.025620</td>\n",
       "      <td>-0.760202</td>\n",
       "      <td>...</td>\n",
       "      <td>0.348833</td>\n",
       "      <td>-0.307562</td>\n",
       "      <td>-0.70929</td>\n",
       "      <td>-0.921808</td>\n",
       "      <td>0.264006</td>\n",
       "      <td>0.307562</td>\n",
       "      <td>0.741127</td>\n",
       "      <td>-0.306224</td>\n",
       "      <td>0.551993</td>\n",
       "      <td>0.108680</td>\n",
       "    </tr>\n",
       "    <tr>\n",
       "      <th>4</th>\n",
       "      <td>0.673114</td>\n",
       "      <td>1.385305</td>\n",
       "      <td>0.953567</td>\n",
       "      <td>0.734975</td>\n",
       "      <td>1.382104</td>\n",
       "      <td>0.499451</td>\n",
       "      <td>0.222888</td>\n",
       "      <td>1.624809</td>\n",
       "      <td>0.793546</td>\n",
       "      <td>1.229699</td>\n",
       "      <td>...</td>\n",
       "      <td>2.010918</td>\n",
       "      <td>-0.307562</td>\n",
       "      <td>1.40986</td>\n",
       "      <td>0.648281</td>\n",
       "      <td>0.264006</td>\n",
       "      <td>0.307562</td>\n",
       "      <td>0.741127</td>\n",
       "      <td>-0.306224</td>\n",
       "      <td>1.299759</td>\n",
       "      <td>0.889271</td>\n",
       "    </tr>\n",
       "  </tbody>\n",
       "</table>\n",
       "<p>5 rows × 25 columns</p>\n",
       "</div>"
      ],
      "text/plain": [
       "         0         1         2         3         4         5         6   \\\n",
       "0 -0.230217  0.658506  1.052959  0.880362  0.521228  0.617283 -0.473766   \n",
       "1  0.482939 -0.068293  0.158428 -0.428115 -0.574433  1.245719  0.504925   \n",
       "2 -0.087585  0.658506  0.986698  0.831900  0.331164  0.108989 -0.319490   \n",
       "3 -0.467935  0.658506 -1.862551 -0.718888 -0.574433 -0.514826 -0.714823   \n",
       "4  0.673114  1.385305  0.953567  0.734975  1.382104  0.499451  0.222888   \n",
       "\n",
       "         7         8         9   ...        15        16       17        18  \\\n",
       "0  1.167626  0.793546  1.229699  ...  0.348833 -0.307562  1.40986  0.648281   \n",
       "1 -0.794354  0.793546 -0.760202  ...  0.348833 -0.307562 -0.70929  0.648281   \n",
       "2  1.195195  0.793546  1.229699  ...  0.348833 -0.307562  1.40986  0.648281   \n",
       "3  0.942481 -1.025620 -0.760202  ...  0.348833 -0.307562 -0.70929 -0.921808   \n",
       "4  1.624809  0.793546  1.229699  ...  2.010918 -0.307562  1.40986  0.648281   \n",
       "\n",
       "         19        20        21        22        23        24  \n",
       "0  0.264006  0.307562  0.741127 -0.306224  0.539624 -0.129585  \n",
       "1  0.264006  0.307562 -0.770150 -0.306224 -0.380198  0.118848  \n",
       "2  0.264006  0.307562  0.741127 -0.306224  0.671287  0.427653  \n",
       "3  0.264006  0.307562  0.741127 -0.306224  0.551993  0.108680  \n",
       "4  0.264006  0.307562  0.741127 -0.306224  1.299759  0.889271  \n",
       "\n",
       "[5 rows x 25 columns]"
      ]
     },
     "execution_count": 368,
     "metadata": {},
     "output_type": "execute_result"
    }
   ],
   "source": [
    "from sklearn.preprocessing import StandardScaler\n",
    "sc = StandardScaler()\n",
    "df_train_ml_sc = sc.fit_transform(df_train_ml)\n",
    "df_test_ml_sc = sc.transform(df_test_ml)\n",
    "df_train_ml_sc = pd.DataFrame(df_train_ml_sc)\n",
    "df_train_ml_sc.head()"
   ]
  },
  {
   "cell_type": "markdown",
   "metadata": {},
   "source": [
    "#### Define Variables"
   ]
  },
  {
   "cell_type": "code",
   "execution_count": 369,
   "metadata": {},
   "outputs": [],
   "source": [
    "X = df_train_ml.copy()\n",
    "y = df_train[target]\n",
    "\n",
    "X_sc = df_train_ml_sc.copy()\n",
    "y_sc = df_train[target]\n",
    "\n",
    "X_test = df_test_ml.copy()\n",
    "X_test_sc = df_test_ml_sc.copy()\n",
    "\n",
    "#X.info()\n",
    "#X_test.info()\n",
    "#X_sc.head()\n",
    "#X_test.head()"
   ]
  },
  {
   "cell_type": "markdown",
   "metadata": {},
   "source": [
    "# Model Selection"
   ]
  },
  {
   "cell_type": "code",
   "execution_count": 370,
   "metadata": {},
   "outputs": [],
   "source": [
    "from sklearn.model_selection import GridSearchCV\n",
    "score_calc = 'neg_mean_squared_error'\n",
    "from sklearn.linear_model import LinearRegression\n",
    "from sklearn.linear_model import Ridge\n",
    "from sklearn.linear_model import Lasso\n",
    "from sklearn.linear_model import ElasticNet\n",
    "from sklearn.linear_model import SGDRegressor\n",
    "from sklearn.tree import DecisionTreeRegressor\n",
    "from sklearn.ensemble import RandomForestRegressor\n",
    "from sklearn.neighbors import KNeighborsRegressor\n",
    "\n",
    "\n",
    "import statsmodels.api as sm\n",
    "from scipy import stats"
   ]
  },
  {
   "cell_type": "markdown",
   "metadata": {},
   "source": [
    "#### Notes to Team:\n",
    "The regressor.best_score_ is the average of r2 scores on left-out test folds for the best parameter combination, i.e.:\n",
    "1.  The average of the 'n_cv' test scores obtained from a train/test sub-split of the original train data. \n",
    "2.  This is repeated for all parameter combinations. And the best average score is assigned to cv_best_score.\n",
    "3.  After finding the best parameters, the model is trained on full data.\n",
    "r2(y_pred = best.predict(X), y_true = y)\n",
    "\n",
    "\n",
    "\n"
   ]
  },
  {
   "cell_type": "markdown",
   "metadata": {},
   "source": [
    "Notes Regarding Specific Models\n",
    "\n",
    "1.  For DecisionTree, be sure to note the modification when the correlation threshold, 'rho_thresh', from the Data Cleaning Jupyter Notebook.  The maxfeatures must be changed for values above the [40-50] neighborhood. "
   ]
  },
  {
   "cell_type": "markdown",
   "metadata": {},
   "source": [
    "### Function Call For GridSearchCV\n",
    "Note this could be extended for other regression parameters... ."
   ]
  },
  {
   "cell_type": "code",
   "execution_count": 371,
   "metadata": {},
   "outputs": [],
   "source": [
    "\n",
    "n_cv = 5\n",
    "\n",
    "def cv_best_score(grid):  \n",
    "    best_score = np.sqrt(-grid.best_score_)\n",
    "    print(best_score)\n",
    "    print(grid.best_params_)\n",
    "    print(grid.best_estimator_)\n",
    "    pass\n",
    "\n"
   ]
  },
  {
   "cell_type": "markdown",
   "metadata": {},
   "source": [
    "## Linear Regression\n",
    "Working on running non-sc and sc in parallel to verify everything works correctly.\n"
   ]
  },
  {
   "cell_type": "code",
   "execution_count": 372,
   "metadata": {},
   "outputs": [
    {
     "name": "stdout",
     "output_type": "stream",
     "text": [
      "Fitting 5 folds for each of 8 candidates, totalling 40 fits\n",
      "0.1268973494805463\n",
      "{'copy_X': True, 'fit_intercept': True, 'normalize': False}\n",
      "LinearRegression(copy_X=True, fit_intercept=True, n_jobs=None, normalize=False)\n"
     ]
    },
    {
     "name": "stderr",
     "output_type": "stream",
     "text": [
      "[Parallel(n_jobs=1)]: Using backend SequentialBackend with 1 concurrent workers.\n",
      "[Parallel(n_jobs=1)]: Done  40 out of  40 | elapsed:    0.2s finished\n"
     ]
    }
   ],
   "source": [
    "lm = LinearRegression()\n",
    "parameters = {'fit_intercept':[True,False], 'normalize':[True,False], 'copy_X':[True, False]}\n",
    "grid_lm = GridSearchCV(lm, parameters, cv = n_cv, verbose = 1 , scoring = score_calc)\n",
    "grid_lm.fit(X, y)\n",
    "sc_lm = cv_best_score(grid_lm)"
   ]
  },
  {
   "cell_type": "code",
   "execution_count": 373,
   "metadata": {},
   "outputs": [
    {
     "name": "stdout",
     "output_type": "stream",
     "text": [
      "Fitting 5 folds for each of 8 candidates, totalling 40 fits\n",
      "0.1268973494805468\n",
      "{'copy_X': True, 'fit_intercept': True, 'normalize': False}\n",
      "LinearRegression(copy_X=True, fit_intercept=True, n_jobs=None, normalize=False)\n"
     ]
    },
    {
     "name": "stderr",
     "output_type": "stream",
     "text": [
      "[Parallel(n_jobs=1)]: Using backend SequentialBackend with 1 concurrent workers.\n",
      "[Parallel(n_jobs=1)]: Done  40 out of  40 | elapsed:    0.2s finished\n"
     ]
    }
   ],
   "source": [
    "lm_sc = LinearRegression()\n",
    "parameters = {'fit_intercept':[True,False], 'normalize':[True,False], 'copy_X':[True, False]}\n",
    "grid_lm_sc = GridSearchCV(lm_sc, parameters, cv = n_cv, verbose = 1 , scoring = score_calc)\n",
    "grid_lm_sc.fit(X_sc, y)\n",
    "sc_lm_sc = cv_best_score(grid_lm_sc)"
   ]
  },
  {
   "cell_type": "code",
   "execution_count": 374,
   "metadata": {},
   "outputs": [],
   "source": [
    "#Note: Right now, the mean imputation isn't needed but I hit a few bumps along the way so it's there as a fail-safe. Will come back to this later.\n",
    "lm_all = LinearRegression()\n",
    "lm_all.fit(X, y)\n",
    "pred_lm_all = lm_all.predict(X_test)\n",
    "pred_lm_all[pred_lm_all < 0] = pred_lm_all.mean()"
   ]
  },
  {
   "cell_type": "code",
   "execution_count": 375,
   "metadata": {},
   "outputs": [],
   "source": [
    "submit_lm = pd.DataFrame()\n",
    "submit_lm['Id'] = test_ids\n",
    "submit_lm['SalePrice'] = pred_lm_all\n",
    "submit_lm['SalePrice'] = np.exp(submit_lm['SalePrice'])\n",
    "submit_lm.to_csv('submit_lm.csv',index=False)"
   ]
  },
  {
   "cell_type": "code",
   "execution_count": 376,
   "metadata": {},
   "outputs": [
    {
     "data": {
      "text/html": [
       "<div>\n",
       "<style scoped>\n",
       "    .dataframe tbody tr th:only-of-type {\n",
       "        vertical-align: middle;\n",
       "    }\n",
       "\n",
       "    .dataframe tbody tr th {\n",
       "        vertical-align: top;\n",
       "    }\n",
       "\n",
       "    .dataframe thead th {\n",
       "        text-align: right;\n",
       "    }\n",
       "</style>\n",
       "<table border=\"1\" class=\"dataframe\">\n",
       "  <thead>\n",
       "    <tr style=\"text-align: right;\">\n",
       "      <th></th>\n",
       "      <th>Feature</th>\n",
       "      <th>Beta</th>\n",
       "    </tr>\n",
       "  </thead>\n",
       "  <tbody>\n",
       "    <tr>\n",
       "      <th>-1</th>\n",
       "      <td>Intercept</td>\n",
       "      <td>3.972997</td>\n",
       "    </tr>\n",
       "    <tr>\n",
       "      <th>0</th>\n",
       "      <td>LotFrontage</td>\n",
       "      <td>0.000109</td>\n",
       "    </tr>\n",
       "    <tr>\n",
       "      <th>1</th>\n",
       "      <td>OverallQual</td>\n",
       "      <td>0.070866</td>\n",
       "    </tr>\n",
       "    <tr>\n",
       "      <th>2</th>\n",
       "      <td>YearBuilt</td>\n",
       "      <td>0.000218</td>\n",
       "    </tr>\n",
       "    <tr>\n",
       "      <th>3</th>\n",
       "      <td>YearRemodAdd</td>\n",
       "      <td>0.001847</td>\n",
       "    </tr>\n",
       "    <tr>\n",
       "      <th>4</th>\n",
       "      <td>MasVnrArea</td>\n",
       "      <td>0.000025</td>\n",
       "    </tr>\n",
       "    <tr>\n",
       "      <th>5</th>\n",
       "      <td>BsmtFinSF1</td>\n",
       "      <td>0.000104</td>\n",
       "    </tr>\n",
       "    <tr>\n",
       "      <th>6</th>\n",
       "      <td>TotalBsmtSF</td>\n",
       "      <td>0.000120</td>\n",
       "    </tr>\n",
       "    <tr>\n",
       "      <th>7</th>\n",
       "      <td>2ndFlrSF</td>\n",
       "      <td>0.000072</td>\n",
       "    </tr>\n",
       "    <tr>\n",
       "      <th>8</th>\n",
       "      <td>FullBath</td>\n",
       "      <td>-0.003302</td>\n",
       "    </tr>\n",
       "    <tr>\n",
       "      <th>9</th>\n",
       "      <td>HalfBath</td>\n",
       "      <td>-0.001622</td>\n",
       "    </tr>\n",
       "    <tr>\n",
       "      <th>10</th>\n",
       "      <td>Fireplaces</td>\n",
       "      <td>0.033942</td>\n",
       "    </tr>\n",
       "    <tr>\n",
       "      <th>11</th>\n",
       "      <td>GarageCars</td>\n",
       "      <td>0.047944</td>\n",
       "    </tr>\n",
       "    <tr>\n",
       "      <th>12</th>\n",
       "      <td>WoodDeckSF</td>\n",
       "      <td>0.000094</td>\n",
       "    </tr>\n",
       "    <tr>\n",
       "      <th>13</th>\n",
       "      <td>OpenPorchSF</td>\n",
       "      <td>0.000123</td>\n",
       "    </tr>\n",
       "    <tr>\n",
       "      <th>14</th>\n",
       "      <td>MSZ_Num</td>\n",
       "      <td>0.076968</td>\n",
       "    </tr>\n",
       "    <tr>\n",
       "      <th>15</th>\n",
       "      <td>Nbhd_Num</td>\n",
       "      <td>0.037429</td>\n",
       "    </tr>\n",
       "    <tr>\n",
       "      <th>16</th>\n",
       "      <td>Mason_Num</td>\n",
       "      <td>0.011275</td>\n",
       "    </tr>\n",
       "    <tr>\n",
       "      <th>17</th>\n",
       "      <td>ExtQual_Num</td>\n",
       "      <td>-0.003601</td>\n",
       "    </tr>\n",
       "    <tr>\n",
       "      <th>18</th>\n",
       "      <td>BsmtQual_Num</td>\n",
       "      <td>0.025401</td>\n",
       "    </tr>\n",
       "    <tr>\n",
       "      <th>19</th>\n",
       "      <td>CA_Num</td>\n",
       "      <td>0.108376</td>\n",
       "    </tr>\n",
       "    <tr>\n",
       "      <th>20</th>\n",
       "      <td>Elec_Num</td>\n",
       "      <td>0.003506</td>\n",
       "    </tr>\n",
       "    <tr>\n",
       "      <th>21</th>\n",
       "      <td>KQual_Num</td>\n",
       "      <td>0.041934</td>\n",
       "    </tr>\n",
       "    <tr>\n",
       "      <th>22</th>\n",
       "      <td>SType_Num</td>\n",
       "      <td>0.032327</td>\n",
       "    </tr>\n",
       "    <tr>\n",
       "      <th>23</th>\n",
       "      <td>GrLivArea_Log</td>\n",
       "      <td>0.267105</td>\n",
       "    </tr>\n",
       "    <tr>\n",
       "      <th>24</th>\n",
       "      <td>LotArea_Log</td>\n",
       "      <td>0.070915</td>\n",
       "    </tr>\n",
       "  </tbody>\n",
       "</table>\n",
       "</div>"
      ],
      "text/plain": [
       "           Feature      Beta\n",
       "-1       Intercept  3.972997\n",
       " 0     LotFrontage  0.000109\n",
       " 1     OverallQual  0.070866\n",
       " 2       YearBuilt  0.000218\n",
       " 3    YearRemodAdd  0.001847\n",
       " 4      MasVnrArea  0.000025\n",
       " 5      BsmtFinSF1  0.000104\n",
       " 6     TotalBsmtSF  0.000120\n",
       " 7        2ndFlrSF  0.000072\n",
       " 8        FullBath -0.003302\n",
       " 9        HalfBath -0.001622\n",
       " 10     Fireplaces  0.033942\n",
       " 11     GarageCars  0.047944\n",
       " 12     WoodDeckSF  0.000094\n",
       " 13    OpenPorchSF  0.000123\n",
       " 14        MSZ_Num  0.076968\n",
       " 15       Nbhd_Num  0.037429\n",
       " 16      Mason_Num  0.011275\n",
       " 17    ExtQual_Num -0.003601\n",
       " 18   BsmtQual_Num  0.025401\n",
       " 19         CA_Num  0.108376\n",
       " 20       Elec_Num  0.003506\n",
       " 21      KQual_Num  0.041934\n",
       " 22      SType_Num  0.032327\n",
       " 23  GrLivArea_Log  0.267105\n",
       " 24    LotArea_Log  0.070915"
      ]
     },
     "execution_count": 376,
     "metadata": {},
     "output_type": "execute_result"
    }
   ],
   "source": [
    "df_lm_all = pd.concat([pd.Series(X.columns),pd.Series(lm_all.coef_)],axis = 1,keys = ['Feature','Beta'])\n",
    "df_lm_all.loc[-1] = ['Intercept', lm_all.intercept_]\n",
    "df_lm_all.reindex(list(range(-1,len(df_lm_all)-1,1)))"
   ]
  },
  {
   "cell_type": "code",
   "execution_count": 377,
   "metadata": {},
   "outputs": [
    {
     "name": "stdout",
     "output_type": "stream",
     "text": [
      "                            OLS Regression Results                            \n",
      "==============================================================================\n",
      "Dep. Variable:          SalePrice_Log   R-squared:                       0.903\n",
      "Model:                            OLS   Adj. R-squared:                  0.902\n",
      "Method:                 Least Squares   F-statistic:                     534.5\n",
      "Date:                Sun, 25 Aug 2019   Prob (F-statistic):               0.00\n",
      "Time:                        18:03:46   Log-Likelihood:                 971.01\n",
      "No. Observations:                1458   AIC:                            -1890.\n",
      "Df Residuals:                    1432   BIC:                            -1753.\n",
      "Df Model:                          25                                         \n",
      "Covariance Type:            nonrobust                                         \n",
      "=================================================================================\n",
      "                    coef    std err          t      P>|t|      [0.025      0.975]\n",
      "---------------------------------------------------------------------------------\n",
      "const             3.9730      0.624      6.367      0.000       2.749       5.197\n",
      "LotFrontage       0.0001      0.000      0.558      0.577      -0.000       0.000\n",
      "OverallQual       0.0709      0.004     15.794      0.000       0.062       0.080\n",
      "YearBuilt         0.0002      0.000      0.969      0.333      -0.000       0.001\n",
      "YearRemodAdd      0.0018      0.000      7.755      0.000       0.001       0.002\n",
      "MasVnrArea     2.472e-05   2.18e-05      1.132      0.258   -1.81e-05    6.76e-05\n",
      "BsmtFinSF1        0.0001   9.17e-06     11.383      0.000    8.64e-05       0.000\n",
      "TotalBsmtSF       0.0001   1.45e-05      8.259      0.000    9.13e-05       0.000\n",
      "2ndFlrSF       7.151e-05   1.66e-05      4.312      0.000     3.9e-05       0.000\n",
      "FullBath         -0.0033      0.010     -0.331      0.741      -0.023       0.016\n",
      "HalfBath         -0.0016      0.010     -0.166      0.868      -0.021       0.018\n",
      "Fireplaces        0.0339      0.006      5.465      0.000       0.022       0.046\n",
      "GarageCars        0.0479      0.006      7.636      0.000       0.036       0.060\n",
      "WoodDeckSF     9.358e-05   2.85e-05      3.283      0.001    3.77e-05       0.000\n",
      "OpenPorchSF       0.0001   5.48e-05      2.248      0.025    1.57e-05       0.000\n",
      "MSZ_Num           0.0770      0.011      7.080      0.000       0.056       0.098\n",
      "Nbhd_Num          0.0374      0.009      4.336      0.000       0.020       0.054\n",
      "Mason_Num         0.0113      0.013      0.856      0.392      -0.015       0.037\n",
      "ExtQual_Num      -0.0036      0.010     -0.373      0.709      -0.023       0.015\n",
      "BsmtQual_Num      0.0254      0.009      2.867      0.004       0.008       0.043\n",
      "CA_Num            0.1084      0.016      6.947      0.000       0.078       0.139\n",
      "Elec_Num          0.0035      0.013      0.266      0.791      -0.022       0.029\n",
      "KQual_Num         0.0419      0.008      5.455      0.000       0.027       0.057\n",
      "SType_Num         0.0323      0.007      4.804      0.000       0.019       0.046\n",
      "GrLivArea_Log     0.2671      0.025     10.845      0.000       0.219       0.315\n",
      "LotArea_Log       0.0709      0.009      7.819      0.000       0.053       0.089\n",
      "==============================================================================\n",
      "Omnibus:                      378.197   Durbin-Watson:                   1.975\n",
      "Prob(Omnibus):                  0.000   Jarque-Bera (JB):             1898.445\n",
      "Skew:                          -1.123   Prob(JB):                         0.00\n",
      "Kurtosis:                       8.119   Cond. No.                     5.80e+05\n",
      "==============================================================================\n",
      "\n",
      "Warnings:\n",
      "[1] Standard Errors assume that the covariance matrix of the errors is correctly specified.\n",
      "[2] The condition number is large, 5.8e+05. This might indicate that there are\n",
      "strong multicollinearity or other numerical problems.\n"
     ]
    },
    {
     "name": "stderr",
     "output_type": "stream",
     "text": [
      "/Library/Frameworks/Python.framework/Versions/3.7/lib/python3.7/site-packages/numpy/core/fromnumeric.py:2389: FutureWarning: Method .ptp is deprecated and will be removed in a future version. Use numpy.ptp instead.\n",
      "  return ptp(axis=axis, out=out, **kwargs)\n"
     ]
    }
   ],
   "source": [
    "X2 = sm.add_constant(X)\n",
    "sm_lm = sm.OLS(y, X2)\n",
    "sm_lm = sm_lm.fit()\n",
    "print(sm_lm.summary())"
   ]
  },
  {
   "cell_type": "markdown",
   "metadata": {},
   "source": [
    "# Ridge"
   ]
  },
  {
   "cell_type": "code",
   "execution_count": null,
   "metadata": {},
   "outputs": [],
   "source": []
  },
  {
   "cell_type": "code",
   "execution_count": 257,
   "metadata": {},
   "outputs": [
    {
     "name": "stdout",
     "output_type": "stream",
     "text": [
      "Fitting 5 folds for each of 48 candidates, totalling 240 fits\n"
     ]
    },
    {
     "name": "stderr",
     "output_type": "stream",
     "text": [
      "[Parallel(n_jobs=1)]: Using backend SequentialBackend with 1 concurrent workers.\n"
     ]
    },
    {
     "name": "stdout",
     "output_type": "stream",
     "text": [
      "0.14793967487044046\n",
      "{'alpha': 0.01, 'normalize': True, 'tol': 1e-06}\n",
      "Ridge(alpha=0.01, copy_X=True, fit_intercept=True, max_iter=None,\n",
      "      normalize=True, random_state=None, solver='auto', tol=1e-06)\n"
     ]
    },
    {
     "name": "stderr",
     "output_type": "stream",
     "text": [
      "[Parallel(n_jobs=1)]: Done 240 out of 240 | elapsed:    0.8s finished\n"
     ]
    }
   ],
   "source": [
    "ridge = Ridge()\n",
    "parameters = {'alpha':[0.001,0.005,0.01,0.1,0.5,1], 'normalize':[True,False], 'tol':[1e-06,5e-06,1e-05,5e-05]}\n",
    "grid_ridge = GridSearchCV(ridge, parameters, cv = n_cv, verbose = 1, scoring = score_calc)\n",
    "grid_ridge.fit(X, y)\n",
    "sc_ridge = cv_best_score(grid_ridge)"
   ]
  },
  {
   "cell_type": "code",
   "execution_count": 258,
   "metadata": {},
   "outputs": [
    {
     "name": "stderr",
     "output_type": "stream",
     "text": [
      "[Parallel(n_jobs=1)]: Using backend SequentialBackend with 1 concurrent workers.\n"
     ]
    },
    {
     "name": "stdout",
     "output_type": "stream",
     "text": [
      "Fitting 5 folds for each of 48 candidates, totalling 240 fits\n",
      "0.14793967487044046\n",
      "{'alpha': 0.01, 'normalize': True, 'tol': 1e-06}\n",
      "Ridge(alpha=0.01, copy_X=True, fit_intercept=True, max_iter=None,\n",
      "      normalize=True, random_state=None, solver='auto', tol=1e-06)\n"
     ]
    },
    {
     "name": "stderr",
     "output_type": "stream",
     "text": [
      "[Parallel(n_jobs=1)]: Done 240 out of 240 | elapsed:    0.8s finished\n"
     ]
    }
   ],
   "source": [
    "ridge_sc = Ridge()\n",
    "parameters = {'alpha':[0.001,0.005,0.01,0.1,0.5,1], 'normalize':[True,False], 'tol':[1e-06,5e-06,1e-05,5e-05]}\n",
    "grid_ridge_sc = GridSearchCV(ridge_sc, parameters, cv=n_cv, verbose=1, scoring = score_calc)\n",
    "grid_ridge_sc.fit(X_sc, y)\n",
    "sc_ridge_sc = cv_best_score(grid_ridge_sc)\n",
    "pred_ridge_all = grid_ridge.predict(X_test)"
   ]
  },
  {
   "cell_type": "code",
   "execution_count": 259,
   "metadata": {},
   "outputs": [],
   "source": [
    "submit_ridge = pd.DataFrame()\n",
    "submit_ridge['Id'] = test_ids\n",
    "submit_ridge['SalePrice'] = pred_ridge_all\n",
    "submit_ridge['SalePrice'] = np.exp(submit_ridge['SalePrice'])\n",
    "submit_ridge.to_csv('submit_ridge.csv',index = False)"
   ]
  },
  {
   "cell_type": "code",
   "execution_count": 260,
   "metadata": {},
   "outputs": [
    {
     "data": {
      "text/html": [
       "<div>\n",
       "<style scoped>\n",
       "    .dataframe tbody tr th:only-of-type {\n",
       "        vertical-align: middle;\n",
       "    }\n",
       "\n",
       "    .dataframe tbody tr th {\n",
       "        vertical-align: top;\n",
       "    }\n",
       "\n",
       "    .dataframe thead th {\n",
       "        text-align: right;\n",
       "    }\n",
       "</style>\n",
       "<table border=\"1\" class=\"dataframe\">\n",
       "  <thead>\n",
       "    <tr style=\"text-align: right;\">\n",
       "      <th></th>\n",
       "      <th>Feature</th>\n",
       "      <th>Beta</th>\n",
       "    </tr>\n",
       "  </thead>\n",
       "  <tbody>\n",
       "    <tr>\n",
       "      <th>-1</th>\n",
       "      <td>Intercept</td>\n",
       "      <td>12.024009</td>\n",
       "    </tr>\n",
       "    <tr>\n",
       "      <th>0</th>\n",
       "      <td>OverallQual</td>\n",
       "      <td>0.091864</td>\n",
       "    </tr>\n",
       "    <tr>\n",
       "      <th>1</th>\n",
       "      <td>YearBuilt</td>\n",
       "      <td>0.027731</td>\n",
       "    </tr>\n",
       "    <tr>\n",
       "      <th>2</th>\n",
       "      <td>YearRemodAdd</td>\n",
       "      <td>0.038867</td>\n",
       "    </tr>\n",
       "    <tr>\n",
       "      <th>3</th>\n",
       "      <td>TotalBsmtSF</td>\n",
       "      <td>0.068320</td>\n",
       "    </tr>\n",
       "    <tr>\n",
       "      <th>4</th>\n",
       "      <td>FullBath</td>\n",
       "      <td>-0.015756</td>\n",
       "    </tr>\n",
       "    <tr>\n",
       "      <th>5</th>\n",
       "      <td>GarageCars</td>\n",
       "      <td>0.043280</td>\n",
       "    </tr>\n",
       "    <tr>\n",
       "      <th>6</th>\n",
       "      <td>Nbhd_Num</td>\n",
       "      <td>0.052676</td>\n",
       "    </tr>\n",
       "    <tr>\n",
       "      <th>7</th>\n",
       "      <td>ExtQual_Num</td>\n",
       "      <td>-0.017006</td>\n",
       "    </tr>\n",
       "    <tr>\n",
       "      <th>8</th>\n",
       "      <td>BsmtQual_Num</td>\n",
       "      <td>0.017033</td>\n",
       "    </tr>\n",
       "    <tr>\n",
       "      <th>9</th>\n",
       "      <td>KQual_Num</td>\n",
       "      <td>0.034997</td>\n",
       "    </tr>\n",
       "    <tr>\n",
       "      <th>10</th>\n",
       "      <td>GrLivArea_Log</td>\n",
       "      <td>0.142894</td>\n",
       "    </tr>\n",
       "  </tbody>\n",
       "</table>\n",
       "</div>"
      ],
      "text/plain": [
       "           Feature       Beta\n",
       "-1       Intercept  12.024009\n",
       " 0     OverallQual   0.091864\n",
       " 1       YearBuilt   0.027731\n",
       " 2    YearRemodAdd   0.038867\n",
       " 3     TotalBsmtSF   0.068320\n",
       " 4        FullBath  -0.015756\n",
       " 5      GarageCars   0.043280\n",
       " 6        Nbhd_Num   0.052676\n",
       " 7     ExtQual_Num  -0.017006\n",
       " 8    BsmtQual_Num   0.017033\n",
       " 9       KQual_Num   0.034997\n",
       " 10  GrLivArea_Log   0.142894"
      ]
     },
     "execution_count": 260,
     "metadata": {},
     "output_type": "execute_result"
    }
   ],
   "source": [
    "df_grid_ridge_sc = pd.concat([pd.Series(X.columns),pd.Series(grid_ridge_sc.best_estimator_.coef_)],axis = 1,keys = ['Feature','Beta'])\n",
    "df_grid_ridge_sc.loc[-1] = ['Intercept', grid_ridge_sc.best_estimator_.intercept_]\n",
    "df_grid_ridge_sc.reindex(list(range(-1,len(df_grid_ridge_sc)-1,1)))"
   ]
  },
  {
   "cell_type": "markdown",
   "metadata": {},
   "source": [
    "# Lasso"
   ]
  },
  {
   "cell_type": "code",
   "execution_count": 378,
   "metadata": {},
   "outputs": [
    {
     "name": "stdout",
     "output_type": "stream",
     "text": [
      "Fitting 5 folds for each of 72 candidates, totalling 360 fits\n"
     ]
    },
    {
     "name": "stderr",
     "output_type": "stream",
     "text": [
      "[Parallel(n_jobs=1)]: Using backend SequentialBackend with 1 concurrent workers.\n"
     ]
    },
    {
     "name": "stdout",
     "output_type": "stream",
     "text": [
      "0.1268721431265525\n",
      "{'alpha': 0.001, 'normalize': False, 'tol': 1e-06}\n",
      "Lasso(alpha=0.001, copy_X=True, fit_intercept=True, max_iter=1000,\n",
      "      normalize=False, positive=False, precompute=False, random_state=None,\n",
      "      selection='cyclic', tol=1e-06, warm_start=False)\n"
     ]
    },
    {
     "name": "stderr",
     "output_type": "stream",
     "text": [
      "[Parallel(n_jobs=1)]: Done 360 out of 360 | elapsed:    1.6s finished\n"
     ]
    }
   ],
   "source": [
    "lasso = Lasso()\n",
    "parameters = {'alpha':[1e-03,0.01,0.1,0.5,0.8,1], 'normalize':[True,False], 'tol':[1e-06,1e-05,5e-05,1e-04,5e-04,1e-03]}\n",
    "grid_lasso = GridSearchCV(lasso, parameters, cv = n_cv, verbose = 1, scoring = score_calc)\n",
    "grid_lasso.fit(X, y)\n",
    "sc_lasso = cv_best_score(grid_lasso)\n",
    "pred_lasso_all = grid_lasso.predict(X_test)"
   ]
  },
  {
   "cell_type": "code",
   "execution_count": 16,
   "metadata": {},
   "outputs": [],
   "source": [
    "submit_lasso = pd.DataFrame()\n",
    "submit_lasso['Id'] = test_ids\n",
    "submit_lasso['SalePrice'] = pred_lasso_all\n",
    "submit_lasso['SalePrice'] = np.exp(submit_lasso['SalePrice'])\n",
    "submit_lasso.to_csv('submit_lasso.csv',index=False)"
   ]
  },
  {
   "cell_type": "code",
   "execution_count": 202,
   "metadata": {},
   "outputs": [
    {
     "data": {
      "text/html": [
       "<div>\n",
       "<style scoped>\n",
       "    .dataframe tbody tr th:only-of-type {\n",
       "        vertical-align: middle;\n",
       "    }\n",
       "\n",
       "    .dataframe tbody tr th {\n",
       "        vertical-align: top;\n",
       "    }\n",
       "\n",
       "    .dataframe thead th {\n",
       "        text-align: right;\n",
       "    }\n",
       "</style>\n",
       "<table border=\"1\" class=\"dataframe\">\n",
       "  <thead>\n",
       "    <tr style=\"text-align: right;\">\n",
       "      <th></th>\n",
       "      <th>Feature</th>\n",
       "      <th>Beta</th>\n",
       "    </tr>\n",
       "  </thead>\n",
       "  <tbody>\n",
       "    <tr>\n",
       "      <th>-1</th>\n",
       "      <td>Intercept</td>\n",
       "      <td>2.457238</td>\n",
       "    </tr>\n",
       "    <tr>\n",
       "      <th>0</th>\n",
       "      <td>OverallQual</td>\n",
       "      <td>0.069415</td>\n",
       "    </tr>\n",
       "    <tr>\n",
       "      <th>1</th>\n",
       "      <td>YearBuilt</td>\n",
       "      <td>0.000915</td>\n",
       "    </tr>\n",
       "    <tr>\n",
       "      <th>2</th>\n",
       "      <td>YearRemodAdd</td>\n",
       "      <td>0.001918</td>\n",
       "    </tr>\n",
       "    <tr>\n",
       "      <th>3</th>\n",
       "      <td>TotalBsmtSF</td>\n",
       "      <td>0.000172</td>\n",
       "    </tr>\n",
       "    <tr>\n",
       "      <th>4</th>\n",
       "      <td>FullBath</td>\n",
       "      <td>-0.018703</td>\n",
       "    </tr>\n",
       "    <tr>\n",
       "      <th>5</th>\n",
       "      <td>GarageCars</td>\n",
       "      <td>0.056923</td>\n",
       "    </tr>\n",
       "    <tr>\n",
       "      <th>6</th>\n",
       "      <td>Nbhd_Num</td>\n",
       "      <td>0.084190</td>\n",
       "    </tr>\n",
       "    <tr>\n",
       "      <th>7</th>\n",
       "      <td>ExtQual_Num</td>\n",
       "      <td>-0.028193</td>\n",
       "    </tr>\n",
       "    <tr>\n",
       "      <th>8</th>\n",
       "      <td>BsmtQual_Num</td>\n",
       "      <td>0.019704</td>\n",
       "    </tr>\n",
       "    <tr>\n",
       "      <th>9</th>\n",
       "      <td>KQual_Num</td>\n",
       "      <td>0.048068</td>\n",
       "    </tr>\n",
       "    <tr>\n",
       "      <th>10</th>\n",
       "      <td>GrLivArea_Log</td>\n",
       "      <td>0.415118</td>\n",
       "    </tr>\n",
       "  </tbody>\n",
       "</table>\n",
       "</div>"
      ],
      "text/plain": [
       "           Feature      Beta\n",
       "-1       Intercept  2.457238\n",
       " 0     OverallQual  0.069415\n",
       " 1       YearBuilt  0.000915\n",
       " 2    YearRemodAdd  0.001918\n",
       " 3     TotalBsmtSF  0.000172\n",
       " 4        FullBath -0.018703\n",
       " 5      GarageCars  0.056923\n",
       " 6        Nbhd_Num  0.084190\n",
       " 7     ExtQual_Num -0.028193\n",
       " 8    BsmtQual_Num  0.019704\n",
       " 9       KQual_Num  0.048068\n",
       " 10  GrLivArea_Log  0.415118"
      ]
     },
     "execution_count": 202,
     "metadata": {},
     "output_type": "execute_result"
    }
   ],
   "source": [
    "df_grid_lasso = pd.concat([pd.Series(X.columns),pd.Series(grid_lasso.best_estimator_.coef_)],axis = 1,keys = ['Feature','Beta'])\n",
    "df_grid_lasso.loc[-1] = ['Intercept', grid_lasso.best_estimator_.intercept_]\n",
    "df_grid_lasso.reindex(list(range(-1,len(df_grid_lasso)-1,1)))"
   ]
  },
  {
   "cell_type": "markdown",
   "metadata": {},
   "source": [
    "# EslasticNet"
   ]
  },
  {
   "cell_type": "code",
   "execution_count": 379,
   "metadata": {},
   "outputs": [
    {
     "name": "stdout",
     "output_type": "stream",
     "text": [
      "Fitting 5 folds for each of 72 candidates, totalling 360 fits\n"
     ]
    },
    {
     "name": "stderr",
     "output_type": "stream",
     "text": [
      "[Parallel(n_jobs=1)]: Using backend SequentialBackend with 1 concurrent workers.\n"
     ]
    },
    {
     "name": "stdout",
     "output_type": "stream",
     "text": [
      "0.12778179629137823\n",
      "{'alpha': 0.1, 'fit_intercept': True, 'l1_ratio': 0.04, 'max_iter': 1000000, 'normalize': False, 'tol': 0.0001}\n",
      "ElasticNet(alpha=0.1, copy_X=True, fit_intercept=True, l1_ratio=0.04,\n",
      "           max_iter=1000000, normalize=False, positive=False, precompute=False,\n",
      "           random_state=None, selection='cyclic', tol=0.0001, warm_start=False)\n"
     ]
    },
    {
     "name": "stderr",
     "output_type": "stream",
     "text": [
      "[Parallel(n_jobs=1)]: Done 360 out of 360 | elapsed:    1.4s finished\n"
     ]
    }
   ],
   "source": [
    "enet = ElasticNet()\n",
    "parameters = {'alpha' :[0.1,1.0,10], 'max_iter' :[1000000], 'l1_ratio':[0.04,0.05], \n",
    "              'fit_intercept' : [False,True], 'normalize':[True,False], 'tol':[1e-02,1e-03,1e-04]}\n",
    "grid_enet = GridSearchCV(enet, parameters, cv = n_cv, verbose = 1, scoring = score_calc)\n",
    "grid_enet.fit(X_sc, y_sc)\n",
    "sc_enet = cv_best_score(grid_enet)\n",
    "pred_enet = grid_enet.predict(X_test_sc)"
   ]
  },
  {
   "cell_type": "code",
   "execution_count": 18,
   "metadata": {},
   "outputs": [],
   "source": [
    "submit_enet = pd.DataFrame()\n",
    "submit_enet['Id'] = test_ids\n",
    "submit_enet['SalePrice'] = pred_enet\n",
    "submit_enet['SalePrice'] = np.exp(submit_enet['SalePrice'])\n",
    "submit_enet.to_csv('submit_enet.csv',index = False)"
   ]
  },
  {
   "cell_type": "code",
   "execution_count": 203,
   "metadata": {},
   "outputs": [
    {
     "data": {
      "text/html": [
       "<div>\n",
       "<style scoped>\n",
       "    .dataframe tbody tr th:only-of-type {\n",
       "        vertical-align: middle;\n",
       "    }\n",
       "\n",
       "    .dataframe tbody tr th {\n",
       "        vertical-align: top;\n",
       "    }\n",
       "\n",
       "    .dataframe thead th {\n",
       "        text-align: right;\n",
       "    }\n",
       "</style>\n",
       "<table border=\"1\" class=\"dataframe\">\n",
       "  <thead>\n",
       "    <tr style=\"text-align: right;\">\n",
       "      <th></th>\n",
       "      <th>Feature</th>\n",
       "      <th>Beta</th>\n",
       "    </tr>\n",
       "  </thead>\n",
       "  <tbody>\n",
       "    <tr>\n",
       "      <th>-1</th>\n",
       "      <td>Intercept</td>\n",
       "      <td>12.024009</td>\n",
       "    </tr>\n",
       "    <tr>\n",
       "      <th>0</th>\n",
       "      <td>OverallQual</td>\n",
       "      <td>0.086437</td>\n",
       "    </tr>\n",
       "    <tr>\n",
       "      <th>1</th>\n",
       "      <td>YearBuilt</td>\n",
       "      <td>0.019253</td>\n",
       "    </tr>\n",
       "    <tr>\n",
       "      <th>2</th>\n",
       "      <td>YearRemodAdd</td>\n",
       "      <td>0.031205</td>\n",
       "    </tr>\n",
       "    <tr>\n",
       "      <th>3</th>\n",
       "      <td>TotalBsmtSF</td>\n",
       "      <td>0.065684</td>\n",
       "    </tr>\n",
       "    <tr>\n",
       "      <th>4</th>\n",
       "      <td>FullBath</td>\n",
       "      <td>0.000000</td>\n",
       "    </tr>\n",
       "    <tr>\n",
       "      <th>5</th>\n",
       "      <td>GarageCars</td>\n",
       "      <td>0.043256</td>\n",
       "    </tr>\n",
       "    <tr>\n",
       "      <th>6</th>\n",
       "      <td>Nbhd_Num</td>\n",
       "      <td>0.049948</td>\n",
       "    </tr>\n",
       "    <tr>\n",
       "      <th>7</th>\n",
       "      <td>ExtQual_Num</td>\n",
       "      <td>-0.000817</td>\n",
       "    </tr>\n",
       "    <tr>\n",
       "      <th>8</th>\n",
       "      <td>BsmtQual_Num</td>\n",
       "      <td>0.019702</td>\n",
       "    </tr>\n",
       "    <tr>\n",
       "      <th>9</th>\n",
       "      <td>KQual_Num</td>\n",
       "      <td>0.034903</td>\n",
       "    </tr>\n",
       "    <tr>\n",
       "      <th>10</th>\n",
       "      <td>GrLivArea_Log</td>\n",
       "      <td>0.121610</td>\n",
       "    </tr>\n",
       "  </tbody>\n",
       "</table>\n",
       "</div>"
      ],
      "text/plain": [
       "           Feature       Beta\n",
       "-1       Intercept  12.024009\n",
       " 0     OverallQual   0.086437\n",
       " 1       YearBuilt   0.019253\n",
       " 2    YearRemodAdd   0.031205\n",
       " 3     TotalBsmtSF   0.065684\n",
       " 4        FullBath   0.000000\n",
       " 5      GarageCars   0.043256\n",
       " 6        Nbhd_Num   0.049948\n",
       " 7     ExtQual_Num  -0.000817\n",
       " 8    BsmtQual_Num   0.019702\n",
       " 9       KQual_Num   0.034903\n",
       " 10  GrLivArea_Log   0.121610"
      ]
     },
     "execution_count": 203,
     "metadata": {},
     "output_type": "execute_result"
    }
   ],
   "source": [
    "df_grid_enet = pd.concat([pd.Series(X.columns),pd.Series(grid_enet.best_estimator_.coef_)],axis = 1,keys = ['Feature','Beta'])\n",
    "df_grid_enet.loc[-1] = ['Intercept', grid_enet.best_estimator_.intercept_]\n",
    "df_grid_enet.reindex(list(range(-1,len(df_grid_enet)-1,1)))"
   ]
  },
  {
   "cell_type": "markdown",
   "metadata": {},
   "source": [
    "# SGD"
   ]
  },
  {
   "cell_type": "code",
   "execution_count": 380,
   "metadata": {},
   "outputs": [
    {
     "name": "stdout",
     "output_type": "stream",
     "text": [
      "Fitting 5 folds for each of 1 candidates, totalling 5 fits\n",
      "0.12754136981907044\n",
      "{'alpha': 1e-05, 'epsilon': 0.01, 'fit_intercept': True, 'max_iter': 10000}\n",
      "SGDRegressor(alpha=1e-05, average=False, early_stopping=False, epsilon=0.01,\n",
      "             eta0=0.01, fit_intercept=True, l1_ratio=0.15,\n",
      "             learning_rate='invscaling', loss='squared_loss', max_iter=10000,\n",
      "             n_iter_no_change=5, penalty='l2', power_t=0.25, random_state=None,\n",
      "             shuffle=True, tol=0.001, validation_fraction=0.1, verbose=0,\n",
      "             warm_start=False)\n"
     ]
    },
    {
     "name": "stderr",
     "output_type": "stream",
     "text": [
      "[Parallel(n_jobs=1)]: Using backend SequentialBackend with 1 concurrent workers.\n",
      "[Parallel(n_jobs=1)]: Done   5 out of   5 | elapsed:    0.0s finished\n"
     ]
    }
   ],
   "source": [
    "sgd = SGDRegressor()\n",
    "parameters = {'max_iter' :[10000], \n",
    "              'alpha':[1e-05], \n",
    "              'epsilon':[1e-02], \n",
    "              'fit_intercept' : [True]}\n",
    "grid_sgd = GridSearchCV(sgd, parameters, cv = n_cv, verbose = 1, scoring = score_calc)\n",
    "grid_sgd.fit(X_sc, y_sc)\n",
    "sc_sgd = cv_best_score(grid_sgd)\n",
    "pred_sgd = grid_sgd.predict(X_test_sc)"
   ]
  },
  {
   "cell_type": "code",
   "execution_count": 381,
   "metadata": {},
   "outputs": [],
   "source": [
    "submit_sgd = pd.DataFrame()\n",
    "submit_sgd['Id'] = test_ids\n",
    "submit_sgd['SalePrice'] = pred_sgd\n",
    "submit_sgd['SalePrice'] = np.exp(submit_sgd['SalePrice'])\n",
    "submit_sgd.to_csv('submit_sgd.csv',index = False)"
   ]
  },
  {
   "cell_type": "markdown",
   "metadata": {},
   "source": [
    "### Stats Sidebar"
   ]
  },
  {
   "cell_type": "code",
   "execution_count": 205,
   "metadata": {},
   "outputs": [
    {
     "data": {
      "text/html": [
       "<div>\n",
       "<style scoped>\n",
       "    .dataframe tbody tr th:only-of-type {\n",
       "        vertical-align: middle;\n",
       "    }\n",
       "\n",
       "    .dataframe tbody tr th {\n",
       "        vertical-align: top;\n",
       "    }\n",
       "\n",
       "    .dataframe thead th {\n",
       "        text-align: right;\n",
       "    }\n",
       "</style>\n",
       "<table border=\"1\" class=\"dataframe\">\n",
       "  <thead>\n",
       "    <tr style=\"text-align: right;\">\n",
       "      <th></th>\n",
       "      <th>Feature</th>\n",
       "      <th>Beta</th>\n",
       "    </tr>\n",
       "  </thead>\n",
       "  <tbody>\n",
       "    <tr>\n",
       "      <th>-1</th>\n",
       "      <td>Intercept</td>\n",
       "      <td>12.023317</td>\n",
       "    </tr>\n",
       "    <tr>\n",
       "      <th>0</th>\n",
       "      <td>OverallQual</td>\n",
       "      <td>0.095867</td>\n",
       "    </tr>\n",
       "    <tr>\n",
       "      <th>1</th>\n",
       "      <td>YearBuilt</td>\n",
       "      <td>0.034354</td>\n",
       "    </tr>\n",
       "    <tr>\n",
       "      <th>2</th>\n",
       "      <td>YearRemodAdd</td>\n",
       "      <td>0.039191</td>\n",
       "    </tr>\n",
       "    <tr>\n",
       "      <th>3</th>\n",
       "      <td>TotalBsmtSF</td>\n",
       "      <td>0.069289</td>\n",
       "    </tr>\n",
       "    <tr>\n",
       "      <th>4</th>\n",
       "      <td>FullBath</td>\n",
       "      <td>-0.019356</td>\n",
       "    </tr>\n",
       "    <tr>\n",
       "      <th>5</th>\n",
       "      <td>GarageCars</td>\n",
       "      <td>0.044089</td>\n",
       "    </tr>\n",
       "    <tr>\n",
       "      <th>6</th>\n",
       "      <td>Nbhd_Num</td>\n",
       "      <td>0.052820</td>\n",
       "    </tr>\n",
       "    <tr>\n",
       "      <th>7</th>\n",
       "      <td>ExtQual_Num</td>\n",
       "      <td>-0.017285</td>\n",
       "    </tr>\n",
       "    <tr>\n",
       "      <th>8</th>\n",
       "      <td>BsmtQual_Num</td>\n",
       "      <td>0.013110</td>\n",
       "    </tr>\n",
       "    <tr>\n",
       "      <th>9</th>\n",
       "      <td>KQual_Num</td>\n",
       "      <td>0.035312</td>\n",
       "    </tr>\n",
       "    <tr>\n",
       "      <th>10</th>\n",
       "      <td>GrLivArea_Log</td>\n",
       "      <td>0.149144</td>\n",
       "    </tr>\n",
       "  </tbody>\n",
       "</table>\n",
       "</div>"
      ],
      "text/plain": [
       "           Feature       Beta\n",
       "-1       Intercept  12.023317\n",
       " 0     OverallQual   0.095867\n",
       " 1       YearBuilt   0.034354\n",
       " 2    YearRemodAdd   0.039191\n",
       " 3     TotalBsmtSF   0.069289\n",
       " 4        FullBath  -0.019356\n",
       " 5      GarageCars   0.044089\n",
       " 6        Nbhd_Num   0.052820\n",
       " 7     ExtQual_Num  -0.017285\n",
       " 8    BsmtQual_Num   0.013110\n",
       " 9       KQual_Num   0.035312\n",
       " 10  GrLivArea_Log   0.149144"
      ]
     },
     "execution_count": 205,
     "metadata": {},
     "output_type": "execute_result"
    }
   ],
   "source": [
    "df_grid_sgd = pd.concat([pd.Series(X.columns),pd.Series(grid_sgd.best_estimator_.coef_)],axis = 1,keys = ['Feature','Beta'])\n",
    "df_grid_sgd.loc[-1] = ['Intercept', grid_sgd.best_estimator_.intercept_[0]]\n",
    "df_grid_sgd.reindex(list(range(-1,len(df_grid_sgd)-1,1)))"
   ]
  },
  {
   "cell_type": "markdown",
   "metadata": {},
   "source": [
    "# DecisionTree"
   ]
  },
  {
   "cell_type": "code",
   "execution_count": 382,
   "metadata": {},
   "outputs": [
    {
     "name": "stdout",
     "output_type": "stream",
     "text": [
      "Fitting 5 folds for each of 480 candidates, totalling 2400 fits\n"
     ]
    },
    {
     "name": "stderr",
     "output_type": "stream",
     "text": [
      "[Parallel(n_jobs=1)]: Using backend SequentialBackend with 1 concurrent workers.\n"
     ]
    },
    {
     "name": "stdout",
     "output_type": "stream",
     "text": [
      "0.1827340270866847\n",
      "{'max_depth': 9, 'max_features': 10, 'max_leaf_nodes': None, 'min_samples_split': 20, 'presort': True, 'random_state': 5}\n",
      "DecisionTreeRegressor(criterion='mse', max_depth=9, max_features=10,\n",
      "                      max_leaf_nodes=None, min_impurity_decrease=0.0,\n",
      "                      min_impurity_split=None, min_samples_leaf=1,\n",
      "                      min_samples_split=20, min_weight_fraction_leaf=0.0,\n",
      "                      presort=True, random_state=5, splitter='best')\n"
     ]
    },
    {
     "name": "stderr",
     "output_type": "stream",
     "text": [
      "[Parallel(n_jobs=1)]: Done 2400 out of 2400 | elapsed:   12.2s finished\n"
     ]
    }
   ],
   "source": [
    "param_grid = {'max_depth' : [7,8,9,10] , \n",
    "              'max_features' : [8,9,10,11],\n",
    "              #'max_features' : [11,12,13,14], \n",
    "              'max_leaf_nodes' : [None, 12,15,18,20],\n",
    "              'min_samples_split' : [20,25,30],\n",
    "              'presort': [False,True] , 'random_state': [5]}       \n",
    "grid_dtree = GridSearchCV(DecisionTreeRegressor(), param_grid, cv = n_cv, refit = True, verbose = 1, scoring = score_calc)\n",
    "grid_dtree.fit(X, y)\n",
    "sc_dtree = cv_best_score(grid_dtree)\n",
    "pred_dtree = grid_dtree.predict(X_test)"
   ]
  },
  {
   "cell_type": "code",
   "execution_count": 22,
   "metadata": {},
   "outputs": [],
   "source": [
    "submit_dtree = pd.DataFrame()\n",
    "submit_dtree['Id'] = test_ids\n",
    "submit_dtree['SalePrice'] = pred_dtree\n",
    "submit_dtree['SalePrice'] = np.exp(submit_dtree['SalePrice'])\n",
    "submit_dtree.to_csv('submit_dtree.csv',index = False)"
   ]
  },
  {
   "cell_type": "code",
   "execution_count": null,
   "metadata": {},
   "outputs": [],
   "source": []
  },
  {
   "cell_type": "markdown",
   "metadata": {},
   "source": [
    "# RandomForest"
   ]
  },
  {
   "cell_type": "code",
   "execution_count": 383,
   "metadata": {},
   "outputs": [
    {
     "name": "stdout",
     "output_type": "stream",
     "text": [
      "Fitting 5 folds for each of 8 candidates, totalling 40 fits\n"
     ]
    },
    {
     "name": "stderr",
     "output_type": "stream",
     "text": [
      "[Parallel(n_jobs=1)]: Using backend SequentialBackend with 1 concurrent workers.\n",
      "[Parallel(n_jobs=1)]: Done  40 out of  40 | elapsed:   17.9s finished\n"
     ]
    },
    {
     "name": "stdout",
     "output_type": "stream",
     "text": [
      "0.1390608695362416\n",
      "{'min_samples_split': 3, 'n_estimators': 100, 'random_state': 5}\n",
      "RandomForestRegressor(bootstrap=True, criterion='mse', max_depth=None,\n",
      "                      max_features='auto', max_leaf_nodes=None,\n",
      "                      min_impurity_decrease=0.0, min_impurity_split=None,\n",
      "                      min_samples_leaf=1, min_samples_split=3,\n",
      "                      min_weight_fraction_leaf=0.0, n_estimators=100,\n",
      "                      n_jobs=None, oob_score=False, random_state=5, verbose=0,\n",
      "                      warm_start=False)\n"
     ]
    }
   ],
   "source": [
    "param_grid = {'min_samples_split' : [3,4,6,10], \n",
    "              'n_estimators' : [70,100], \n",
    "              'random_state': [5]}\n",
    "grid_rf = GridSearchCV(RandomForestRegressor(), param_grid, cv = n_cv, refit = True, verbose=1, scoring = score_calc)\n",
    "grid_rf.fit(X, y)\n",
    "sc_rf = cv_best_score(grid_rf)\n",
    "pred_rf = grid_rf.predict(X_test)"
   ]
  },
  {
   "cell_type": "code",
   "execution_count": 24,
   "metadata": {},
   "outputs": [],
   "source": [
    "submit_rf = pd.DataFrame()\n",
    "submit_rf['Id'] = test_ids\n",
    "submit_rf['SalePrice'] = pred_rf\n",
    "submit_rf['SalePrice'] = np.exp(submit_rf['SalePrice'])\n",
    "submit_rf.to_csv('submit_rf.csv',index = False)"
   ]
  },
  {
   "cell_type": "markdown",
   "metadata": {},
   "source": [
    "# KNN\n"
   ]
  },
  {
   "cell_type": "code",
   "execution_count": 384,
   "metadata": {},
   "outputs": [
    {
     "name": "stdout",
     "output_type": "stream",
     "text": [
      "Fitting 5 folds for each of 42 candidates, totalling 210 fits\n"
     ]
    },
    {
     "name": "stderr",
     "output_type": "stream",
     "text": [
      "[Parallel(n_jobs=1)]: Using backend SequentialBackend with 1 concurrent workers.\n"
     ]
    },
    {
     "name": "stdout",
     "output_type": "stream",
     "text": [
      "0.16319336828767508\n",
      "{'algorithm': 'brute', 'n_neighbors': 7, 'weights': 'distance'}\n",
      "KNeighborsRegressor(algorithm='brute', leaf_size=30, metric='minkowski',\n",
      "                    metric_params=None, n_jobs=None, n_neighbors=7, p=2,\n",
      "                    weights='distance')\n"
     ]
    },
    {
     "name": "stderr",
     "output_type": "stream",
     "text": [
      "[Parallel(n_jobs=1)]: Done 210 out of 210 | elapsed:    2.8s finished\n"
     ]
    }
   ],
   "source": [
    "param_grid = {'n_neighbors' : [3,4,5,6,7,10,15] ,    \n",
    "              'weights' : ['uniform','distance'] ,\n",
    "              'algorithm' : ['ball_tree', 'kd_tree', 'brute']}\n",
    "grid_knn = GridSearchCV(KNeighborsRegressor(), param_grid, cv = n_cv, refit = True, verbose = 1, scoring = score_calc)\n",
    "grid_knn.fit(X_sc, y_sc)\n",
    "sc_knn = cv_best_score(grid_knn)\n",
    "pred_knn = grid_knn.predict(X_test_sc)"
   ]
  },
  {
   "cell_type": "code",
   "execution_count": 209,
   "metadata": {},
   "outputs": [],
   "source": [
    "submit_knn = pd.DataFrame()\n",
    "submit_knn['Id'] = test_ids\n",
    "submit_knn['SalePrice'] = pred_knn\n",
    "submit_knn['SalePrice'] = np.exp(submit_knn['SalePrice'])\n",
    "submit_knn.to_csv('submit_knn.csv',index = False)"
   ]
  },
  {
   "cell_type": "code",
   "execution_count": null,
   "metadata": {},
   "outputs": [],
   "source": []
  },
  {
   "cell_type": "markdown",
   "metadata": {},
   "source": [
    "## Compare Models\n",
    "Work in progress.  Would like to make it auto-update w/ the above but whatcha gonna do."
   ]
  },
  {
   "cell_type": "code",
   "execution_count": 27,
   "metadata": {},
   "outputs": [
    {
     "data": {
      "text/html": [
       "<div>\n",
       "<style scoped>\n",
       "    .dataframe tbody tr th:only-of-type {\n",
       "        vertical-align: middle;\n",
       "    }\n",
       "\n",
       "    .dataframe tbody tr th {\n",
       "        vertical-align: top;\n",
       "    }\n",
       "\n",
       "    .dataframe thead th {\n",
       "        text-align: right;\n",
       "    }\n",
       "</style>\n",
       "<table border=\"1\" class=\"dataframe\">\n",
       "  <thead>\n",
       "    <tr style=\"text-align: right;\">\n",
       "      <th></th>\n",
       "      <th>Model</th>\n",
       "      <th>RMSE</th>\n",
       "      <th>Kaggle</th>\n",
       "    </tr>\n",
       "  </thead>\n",
       "  <tbody>\n",
       "    <tr>\n",
       "      <th>0</th>\n",
       "      <td>Linear</td>\n",
       "      <td>14.795242</td>\n",
       "      <td>0</td>\n",
       "    </tr>\n",
       "    <tr>\n",
       "      <th>1</th>\n",
       "      <td>Ridge</td>\n",
       "      <td>14.793967</td>\n",
       "      <td>0</td>\n",
       "    </tr>\n",
       "    <tr>\n",
       "      <th>2</th>\n",
       "      <td>Lasso</td>\n",
       "      <td>14.816975</td>\n",
       "      <td>0</td>\n",
       "    </tr>\n",
       "    <tr>\n",
       "      <th>3</th>\n",
       "      <td>E-Net</td>\n",
       "      <td>14.960756</td>\n",
       "      <td>0</td>\n",
       "    </tr>\n",
       "    <tr>\n",
       "      <th>4</th>\n",
       "      <td>SGD</td>\n",
       "      <td>14.836019</td>\n",
       "      <td>0</td>\n",
       "    </tr>\n",
       "    <tr>\n",
       "      <th>5</th>\n",
       "      <td>DecTree</td>\n",
       "      <td>18.283521</td>\n",
       "      <td>0</td>\n",
       "    </tr>\n",
       "    <tr>\n",
       "      <th>6</th>\n",
       "      <td>RndmFrst</td>\n",
       "      <td>15.265786</td>\n",
       "      <td>0</td>\n",
       "    </tr>\n",
       "    <tr>\n",
       "      <th>7</th>\n",
       "      <td>KNN</td>\n",
       "      <td>16.031395</td>\n",
       "      <td>0</td>\n",
       "    </tr>\n",
       "  </tbody>\n",
       "</table>\n",
       "</div>"
      ],
      "text/plain": [
       "      Model       RMSE  Kaggle\n",
       "0    Linear  14.795242       0\n",
       "1     Ridge  14.793967       0\n",
       "2     Lasso  14.816975       0\n",
       "3     E-Net  14.960756       0\n",
       "4       SGD  14.836019       0\n",
       "5   DecTree  18.283521       0\n",
       "6  RndmFrst  15.265786       0\n",
       "7       KNN  16.031395       0"
      ]
     },
     "execution_count": 27,
     "metadata": {},
     "output_type": "execute_result"
    }
   ],
   "source": [
    "rmse = [sc_lm_sc, \n",
    "        sc_ridge_sc, \n",
    "        sc_lasso, \n",
    "        sc_enet,\n",
    "        sc_sgd, \n",
    "        sc_dtree, \n",
    "        sc_rf, \n",
    "        sc_knn]\n",
    "rmse = [_ * 100 for _ in rmse]\n",
    "regressors = ['Linear','Ridge','Lasso','E-Net','SGD','DecTree','RndmFrst','KNN']\n",
    "\n",
    "sc_lm_sc_kaggle = 0\n",
    "sc_ridge_sc_kaggle = 0\n",
    "sc_lasso_kaggle = 0\n",
    "sc_enet_kaggle = 0\n",
    "sc_sgd_kaggle = 0\n",
    "sc_dtree_kaggle = 0\n",
    "sc_rf_kaggle = 0\n",
    "sc_knn_kaggle = 0\n",
    "\n",
    "'''\n",
    "sc_lm_sc_kaggle = .14731\n",
    "sc_ridge_sc_kaggle = .14748\n",
    "sc_lasso_kaggle = .14725\n",
    "sc_enet_kaggle = .14969\n",
    "sc_sgd_kaggle = .14694\n",
    "sc_dtree_kaggle = .19523\n",
    "sc_rf_kaggle = .15523\n",
    "sc_knn_kaggle = .17769\n",
    "'''\n",
    "kaggle = [sc_lm_sc_kaggle, \n",
    "        sc_ridge_sc_kaggle, \n",
    "        sc_lasso_kaggle, \n",
    "        sc_enet_kaggle,\n",
    "        sc_sgd_kaggle, \n",
    "        sc_dtree_kaggle, \n",
    "        sc_rf_kaggle, \n",
    "        sc_knn_kaggle]\n",
    "\n",
    "dict_rmse = {'RMSE' : rmse, 'Kaggle' : kaggle}\n",
    "df_rmse = pd.DataFrame(dict_rmse)\n",
    "df_rmse['Model'] = regressors\n",
    "df_rmse = df_rmse[['Model','RMSE','Kaggle']]\n",
    "df_rmse['Kaggle'] = df_rmse['Kaggle']*100\n",
    "df_rmse"
   ]
  },
  {
   "cell_type": "code",
   "execution_count": 28,
   "metadata": {},
   "outputs": [
    {
     "data": {
      "image/png": "[encoded data removed]",
      "text/plain": [
       "<Figure size 612x324 with 1 Axes>"
      ]
     },
     "metadata": {
      "needs_background": "dark"
     },
     "output_type": "display_data"
    }
   ],
   "source": [
    "fig, ax = plt.subplots()\n",
    "fig.set_size_inches(8.5,4.5)\n",
    "\n",
    "splot = sns.barplot(x = regressors, y = rmse, ax = ax, palette = 'Blues')\n",
    "sns.set_style(\"whitegrid\", {'axes.grid' : False})\n",
    "\n",
    "plt.ylabel('RMSE (%)')\n",
    "\n",
    "for p in splot.patches:\n",
    "    splot.annotate(format(p.get_height(), '.2f'), \n",
    "                   (p.get_x() + p.get_width() / 2., p.get_height()), \n",
    "                   ha = 'center', va = 'center', xytext = (0, 10), textcoords = 'offset points')\n",
    "plt.show()"
   ]
  },
  {
   "cell_type": "code",
   "execution_count": 29,
   "metadata": {},
   "outputs": [
    {
     "data": {
      "text/html": [
       "<div>\n",
       "<style scoped>\n",
       "    .dataframe tbody tr th:only-of-type {\n",
       "        vertical-align: middle;\n",
       "    }\n",
       "\n",
       "    .dataframe tbody tr th {\n",
       "        vertical-align: top;\n",
       "    }\n",
       "\n",
       "    .dataframe thead th {\n",
       "        text-align: right;\n",
       "    }\n",
       "</style>\n",
       "<table border=\"1\" class=\"dataframe\">\n",
       "  <thead>\n",
       "    <tr style=\"text-align: right;\">\n",
       "      <th></th>\n",
       "      <th>Linear</th>\n",
       "      <th>Ridge</th>\n",
       "      <th>Lasso</th>\n",
       "      <th>ElaNet</th>\n",
       "      <th>SGD</th>\n",
       "      <th>DTr</th>\n",
       "      <th>RF</th>\n",
       "      <th>KNN</th>\n",
       "    </tr>\n",
       "  </thead>\n",
       "  <tbody>\n",
       "    <tr>\n",
       "      <th>Linear</th>\n",
       "      <td>1.000000</td>\n",
       "      <td>0.999985</td>\n",
       "      <td>0.999781</td>\n",
       "      <td>0.998574</td>\n",
       "      <td>0.999964</td>\n",
       "      <td>0.941628</td>\n",
       "      <td>0.977026</td>\n",
       "      <td>0.971549</td>\n",
       "    </tr>\n",
       "    <tr>\n",
       "      <th>Ridge</th>\n",
       "      <td>0.999985</td>\n",
       "      <td>1.000000</td>\n",
       "      <td>0.999842</td>\n",
       "      <td>0.998826</td>\n",
       "      <td>0.999940</td>\n",
       "      <td>0.941740</td>\n",
       "      <td>0.977074</td>\n",
       "      <td>0.972064</td>\n",
       "    </tr>\n",
       "    <tr>\n",
       "      <th>Lasso</th>\n",
       "      <td>0.999781</td>\n",
       "      <td>0.999842</td>\n",
       "      <td>1.000000</td>\n",
       "      <td>0.999193</td>\n",
       "      <td>0.999778</td>\n",
       "      <td>0.942147</td>\n",
       "      <td>0.977451</td>\n",
       "      <td>0.972203</td>\n",
       "    </tr>\n",
       "    <tr>\n",
       "      <th>ElaNet</th>\n",
       "      <td>0.998574</td>\n",
       "      <td>0.998826</td>\n",
       "      <td>0.999193</td>\n",
       "      <td>1.000000</td>\n",
       "      <td>0.998539</td>\n",
       "      <td>0.942017</td>\n",
       "      <td>0.976693</td>\n",
       "      <td>0.974291</td>\n",
       "    </tr>\n",
       "    <tr>\n",
       "      <th>SGD</th>\n",
       "      <td>0.999964</td>\n",
       "      <td>0.999940</td>\n",
       "      <td>0.999778</td>\n",
       "      <td>0.998539</td>\n",
       "      <td>1.000000</td>\n",
       "      <td>0.941519</td>\n",
       "      <td>0.977062</td>\n",
       "      <td>0.971322</td>\n",
       "    </tr>\n",
       "    <tr>\n",
       "      <th>DTr</th>\n",
       "      <td>0.941628</td>\n",
       "      <td>0.941740</td>\n",
       "      <td>0.942147</td>\n",
       "      <td>0.942017</td>\n",
       "      <td>0.941519</td>\n",
       "      <td>1.000000</td>\n",
       "      <td>0.960509</td>\n",
       "      <td>0.930541</td>\n",
       "    </tr>\n",
       "    <tr>\n",
       "      <th>RF</th>\n",
       "      <td>0.977026</td>\n",
       "      <td>0.977074</td>\n",
       "      <td>0.977451</td>\n",
       "      <td>0.976693</td>\n",
       "      <td>0.977062</td>\n",
       "      <td>0.960509</td>\n",
       "      <td>1.000000</td>\n",
       "      <td>0.971091</td>\n",
       "    </tr>\n",
       "    <tr>\n",
       "      <th>KNN</th>\n",
       "      <td>0.971549</td>\n",
       "      <td>0.972064</td>\n",
       "      <td>0.972203</td>\n",
       "      <td>0.974291</td>\n",
       "      <td>0.971322</td>\n",
       "      <td>0.930541</td>\n",
       "      <td>0.971091</td>\n",
       "      <td>1.000000</td>\n",
       "    </tr>\n",
       "  </tbody>\n",
       "</table>\n",
       "</div>"
      ],
      "text/plain": [
       "          Linear     Ridge     Lasso    ElaNet       SGD       DTr        RF  \\\n",
       "Linear  1.000000  0.999985  0.999781  0.998574  0.999964  0.941628  0.977026   \n",
       "Ridge   0.999985  1.000000  0.999842  0.998826  0.999940  0.941740  0.977074   \n",
       "Lasso   0.999781  0.999842  1.000000  0.999193  0.999778  0.942147  0.977451   \n",
       "ElaNet  0.998574  0.998826  0.999193  1.000000  0.998539  0.942017  0.976693   \n",
       "SGD     0.999964  0.999940  0.999778  0.998539  1.000000  0.941519  0.977062   \n",
       "DTr     0.941628  0.941740  0.942147  0.942017  0.941519  1.000000  0.960509   \n",
       "RF      0.977026  0.977074  0.977451  0.976693  0.977062  0.960509  1.000000   \n",
       "KNN     0.971549  0.972064  0.972203  0.974291  0.971322  0.930541  0.971091   \n",
       "\n",
       "             KNN  \n",
       "Linear  0.971549  \n",
       "Ridge   0.972064  \n",
       "Lasso   0.972203  \n",
       "ElaNet  0.974291  \n",
       "SGD     0.971322  \n",
       "DTr     0.930541  \n",
       "RF      0.971091  \n",
       "KNN     1.000000  "
      ]
     },
     "execution_count": 29,
     "metadata": {},
     "output_type": "execute_result"
    }
   ],
   "source": [
    "predictions = {'Linear': pred_lm_all, 'Ridge': pred_ridge_all, 'Lasso': pred_lasso_all,\n",
    "               'ElaNet': pred_enet, 'SGD': pred_sgd, 'DTr': pred_dtree, 'RF': pred_rf,\n",
    "               'KNN': pred_knn}\n",
    "df_predictions = pd.DataFrame(data = predictions) \n",
    "df_predictions.corr()"
   ]
  },
  {
   "cell_type": "code",
   "execution_count": 30,
   "metadata": {},
   "outputs": [
    {
     "data": {
      "image/png": "[encoded data removed]",
      "text/plain": [
       "<Figure size 444.485x360 with 1 Axes>"
      ]
     },
     "metadata": {},
     "output_type": "display_data"
    }
   ],
   "source": [
    "df_rmse_melt = pd.melt(df_rmse, id_vars=\"Model\", var_name=\"RMSE\", value_name=\"Kaggle\")\n",
    "splot = sns.catplot(x='Model', y='Kaggle', hue='RMSE', data=df_rmse_melt, kind='bar', palette = 'Blues')\n"
   ]
  },
  {
   "cell_type": "code",
   "execution_count": null,
   "metadata": {},
   "outputs": [],
   "source": []
  }
 ],
 "metadata": {
  "kernelspec": {
   "display_name": "Python 3",
   "language": "python",
   "name": "python3"
  },
  "language_info": {
   "codemirror_mode": {
    "name": "ipython",
    "version": 3
   },
   "file_extension": ".py",
   "mimetype": "text/x-python",
   "name": "python",
   "nbconvert_exporter": "python",
   "pygments_lexer": "ipython3",
   "version": "3.7.4"
  }
 },
 "nbformat": 4,
 "nbformat_minor": 4
}
