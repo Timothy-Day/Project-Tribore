{
 "cells": [
  {
   "cell_type": "code",
   "execution_count": 1,
   "metadata": {},
   "outputs": [],
   "source": [
    "import pandas as pd\n",
    "from sklearn.linear_model import LinearRegression\n",
    "from jupyterthemes import jtplot\n",
    "jtplot.style(theme='onedork')\n",
    "import numpy as np\n",
    "%matplotlib inline\n",
    "import matplotlib.pyplot as plt\n",
    "import seaborn as sns"
   ]
  },
  {
   "cell_type": "code",
   "execution_count": 2,
   "metadata": {},
   "outputs": [],
   "source": [
    "df_train = pd.read_csv('data/train_clean.csv', index_col = 0)\n",
    "df_test = pd.read_csv('data/test_clean.csv', index_col = 0)\n",
    "\n",
    "\n",
    "# Re-write as functin\n",
    "features = pd.read_csv('data/features.csv', index_col = 0)\n",
    "features = features.values.tolist()\n",
    "flat_list = []\n",
    "for sublist in features:\n",
    "    for item in sublist:\n",
    "        flat_list.append(item)\n",
    "        features = flat_list\n",
    "\n",
    "df_train_ml = df_train[features].copy()\n",
    "df_test_ml  = df_test[features].copy()\n",
    "\n",
    "target = 'SalePrice_Log'\n",
    "test_ids = list(df_test.index.values)  "
   ]
  },
  {
   "cell_type": "markdown",
   "metadata": {},
   "source": [
    "# Checking the Model\n",
    "This is just a check that I didn't do anything foolish in the transition from the Data Cleaning / Analysis Jupyter Notebook."
   ]
  },
  {
   "cell_type": "code",
   "execution_count": 3,
   "metadata": {},
   "outputs": [],
   "source": [
    "#y_train =  df_train[target]\n",
    "#X_train = df_train_ml\n",
    "\n",
    "#lm = LinearRegression()\n",
    "#lm.fit(X_train, y_train)\n",
    "#lm.score(X_train, y_train)"
   ]
  },
  {
   "cell_type": "markdown",
   "metadata": {},
   "source": [
    "# Standardization"
   ]
  },
  {
   "cell_type": "code",
   "execution_count": 4,
   "metadata": {},
   "outputs": [
    {
     "data": {
      "text/html": [
       "<div>\n",
       "<style scoped>\n",
       "    .dataframe tbody tr th:only-of-type {\n",
       "        vertical-align: middle;\n",
       "    }\n",
       "\n",
       "    .dataframe tbody tr th {\n",
       "        vertical-align: top;\n",
       "    }\n",
       "\n",
       "    .dataframe thead th {\n",
       "        text-align: right;\n",
       "    }\n",
       "</style>\n",
       "<table border=\"1\" class=\"dataframe\">\n",
       "  <thead>\n",
       "    <tr style=\"text-align: right;\">\n",
       "      <th></th>\n",
       "      <th>0</th>\n",
       "      <th>1</th>\n",
       "      <th>2</th>\n",
       "      <th>3</th>\n",
       "      <th>4</th>\n",
       "      <th>5</th>\n",
       "      <th>6</th>\n",
       "      <th>7</th>\n",
       "      <th>8</th>\n",
       "      <th>9</th>\n",
       "      <th>10</th>\n",
       "      <th>11</th>\n",
       "      <th>12</th>\n",
       "      <th>13</th>\n",
       "      <th>14</th>\n",
       "    </tr>\n",
       "  </thead>\n",
       "  <tbody>\n",
       "    <tr>\n",
       "      <th>0</th>\n",
       "      <td>0.658506</td>\n",
       "      <td>1.052959</td>\n",
       "      <td>0.880362</td>\n",
       "      <td>0.523937</td>\n",
       "      <td>-0.473766</td>\n",
       "      <td>0.793546</td>\n",
       "      <td>-0.952231</td>\n",
       "      <td>0.313159</td>\n",
       "      <td>0.438861</td>\n",
       "      <td>0.348833</td>\n",
       "      <td>1.40986</td>\n",
       "      <td>0.648281</td>\n",
       "      <td>0.741127</td>\n",
       "      <td>0.539624</td>\n",
       "      <td>-0.129585</td>\n",
       "    </tr>\n",
       "    <tr>\n",
       "      <th>1</th>\n",
       "      <td>-0.068293</td>\n",
       "      <td>0.158428</td>\n",
       "      <td>-0.428115</td>\n",
       "      <td>-0.570739</td>\n",
       "      <td>0.504925</td>\n",
       "      <td>0.793546</td>\n",
       "      <td>0.605965</td>\n",
       "      <td>0.313159</td>\n",
       "      <td>0.438861</td>\n",
       "      <td>0.348833</td>\n",
       "      <td>-0.70929</td>\n",
       "      <td>0.648281</td>\n",
       "      <td>-0.770150</td>\n",
       "      <td>-0.380198</td>\n",
       "      <td>0.118848</td>\n",
       "    </tr>\n",
       "    <tr>\n",
       "      <th>2</th>\n",
       "      <td>0.658506</td>\n",
       "      <td>0.986698</td>\n",
       "      <td>0.831900</td>\n",
       "      <td>0.334044</td>\n",
       "      <td>-0.319490</td>\n",
       "      <td>0.793546</td>\n",
       "      <td>0.605965</td>\n",
       "      <td>0.313159</td>\n",
       "      <td>0.438861</td>\n",
       "      <td>0.348833</td>\n",
       "      <td>1.40986</td>\n",
       "      <td>0.648281</td>\n",
       "      <td>0.741127</td>\n",
       "      <td>0.671287</td>\n",
       "      <td>0.427653</td>\n",
       "    </tr>\n",
       "    <tr>\n",
       "      <th>3</th>\n",
       "      <td>0.658506</td>\n",
       "      <td>-1.862551</td>\n",
       "      <td>-0.718888</td>\n",
       "      <td>-0.570739</td>\n",
       "      <td>-0.714823</td>\n",
       "      <td>-1.025620</td>\n",
       "      <td>0.605965</td>\n",
       "      <td>1.652119</td>\n",
       "      <td>0.438861</td>\n",
       "      <td>0.348833</td>\n",
       "      <td>-0.70929</td>\n",
       "      <td>-0.921808</td>\n",
       "      <td>0.741127</td>\n",
       "      <td>0.551993</td>\n",
       "      <td>0.108680</td>\n",
       "    </tr>\n",
       "    <tr>\n",
       "      <th>4</th>\n",
       "      <td>1.385305</td>\n",
       "      <td>0.953567</td>\n",
       "      <td>0.734975</td>\n",
       "      <td>1.384039</td>\n",
       "      <td>0.222888</td>\n",
       "      <td>0.793546</td>\n",
       "      <td>0.605965</td>\n",
       "      <td>1.652119</td>\n",
       "      <td>0.438861</td>\n",
       "      <td>2.010918</td>\n",
       "      <td>1.40986</td>\n",
       "      <td>0.648281</td>\n",
       "      <td>0.741127</td>\n",
       "      <td>1.299759</td>\n",
       "      <td>0.889271</td>\n",
       "    </tr>\n",
       "  </tbody>\n",
       "</table>\n",
       "</div>"
      ],
      "text/plain": [
       "         0         1         2         3         4         5         6   \\\n",
       "0  0.658506  1.052959  0.880362  0.523937 -0.473766  0.793546 -0.952231   \n",
       "1 -0.068293  0.158428 -0.428115 -0.570739  0.504925  0.793546  0.605965   \n",
       "2  0.658506  0.986698  0.831900  0.334044 -0.319490  0.793546  0.605965   \n",
       "3  0.658506 -1.862551 -0.718888 -0.570739 -0.714823 -1.025620  0.605965   \n",
       "4  1.385305  0.953567  0.734975  1.384039  0.222888  0.793546  0.605965   \n",
       "\n",
       "         7         8         9        10        11        12        13  \\\n",
       "0  0.313159  0.438861  0.348833  1.40986  0.648281  0.741127  0.539624   \n",
       "1  0.313159  0.438861  0.348833 -0.70929  0.648281 -0.770150 -0.380198   \n",
       "2  0.313159  0.438861  0.348833  1.40986  0.648281  0.741127  0.671287   \n",
       "3  1.652119  0.438861  0.348833 -0.70929 -0.921808  0.741127  0.551993   \n",
       "4  1.652119  0.438861  2.010918  1.40986  0.648281  0.741127  1.299759   \n",
       "\n",
       "         14  \n",
       "0 -0.129585  \n",
       "1  0.118848  \n",
       "2  0.427653  \n",
       "3  0.108680  \n",
       "4  0.889271  "
      ]
     },
     "execution_count": 4,
     "metadata": {},
     "output_type": "execute_result"
    }
   ],
   "source": [
    "from sklearn.preprocessing import StandardScaler\n",
    "sc = StandardScaler()\n",
    "df_train_ml_sc = sc.fit_transform(df_train_ml)\n",
    "df_test_ml_sc = sc.transform(df_test_ml)\n",
    "df_train_ml_sc = pd.DataFrame(df_train_ml_sc)\n",
    "df_train_ml_sc.head()"
   ]
  },
  {
   "cell_type": "markdown",
   "metadata": {},
   "source": [
    "#### Define Variables"
   ]
  },
  {
   "cell_type": "code",
   "execution_count": 5,
   "metadata": {},
   "outputs": [],
   "source": [
    "X = df_train_ml.copy()\n",
    "y = df_train[target]\n",
    "\n",
    "X_sc = df_train_ml_sc.copy()\n",
    "y_sc = df_train[target]\n",
    "\n",
    "X_test = df_test_ml.copy()\n",
    "X_test_sc = df_test_ml_sc.copy()\n",
    "\n",
    "#X.info()\n",
    "#X_test.info()\n",
    "#X_sc.head()\n",
    "#X_test.head()"
   ]
  },
  {
   "cell_type": "markdown",
   "metadata": {},
   "source": [
    "# Model Selection"
   ]
  },
  {
   "cell_type": "code",
   "execution_count": 6,
   "metadata": {},
   "outputs": [],
   "source": [
    "from sklearn.model_selection import GridSearchCV\n",
    "score_calc = 'neg_mean_squared_error'\n",
    "from sklearn.linear_model import LinearRegression\n",
    "from sklearn.linear_model import Ridge\n",
    "from sklearn.linear_model import Lasso\n",
    "from sklearn.linear_model import ElasticNet\n",
    "from sklearn.linear_model import SGDRegressor\n",
    "from sklearn.tree import DecisionTreeRegressor\n",
    "from sklearn.ensemble import RandomForestRegressor\n",
    "from sklearn.neighbors import KNeighborsRegressor"
   ]
  },
  {
   "cell_type": "markdown",
   "metadata": {},
   "source": [
    "#### A note on the theory / plan.  (Tighten this up)\n",
    "\n",
    "The regressor.best_score_ is the average of r2 scores on left-out test folds for the best parameter combination, i.e.:\n",
    "1.  The average of the 'n_cv' test scores obtained from a train/test sub-split of the original train data. \n",
    "2.  This is repeated for all parameter combinations. And the best average score is assigned to the best_score_.\n",
    "3.  After finding the best parameters, the model is trained on full data.\n",
    "r2(y_pred = best.predict(X), y_true = y)\n",
    "\n",
    "\n",
    "\n"
   ]
  },
  {
   "cell_type": "code",
   "execution_count": 7,
   "metadata": {},
   "outputs": [],
   "source": [
    "n_cv = 5\n",
    "\n",
    "def cv_best_score(grid):  \n",
    "    best_score = np.sqrt(-grid.best_score_)\n",
    "    print(best_score)    \n",
    "    #print(grid.best_params_)\n",
    "    #print(grid.best_estimator_)\n",
    "    return best_score"
   ]
  },
  {
   "cell_type": "markdown",
   "metadata": {},
   "source": [
    "## Linear Regression\n",
    "Working on running non-sc and sc in parallel to verify everything works correctly.\n"
   ]
  },
  {
   "cell_type": "code",
   "execution_count": 8,
   "metadata": {},
   "outputs": [
    {
     "name": "stdout",
     "output_type": "stream",
     "text": [
      "Fitting 5 folds for each of 8 candidates, totalling 40 fits\n"
     ]
    },
    {
     "name": "stderr",
     "output_type": "stream",
     "text": [
      "[Parallel(n_jobs=1)]: Using backend SequentialBackend with 1 concurrent workers.\n",
      "[Parallel(n_jobs=1)]: Done  40 out of  40 | elapsed:    0.2s finished\n"
     ]
    },
    {
     "name": "stdout",
     "output_type": "stream",
     "text": [
      "0.1360971424095817\n"
     ]
    }
   ],
   "source": [
    "lm = LinearRegression()\n",
    "parameters = {'fit_intercept':[True,False], 'normalize':[True,False], 'copy_X':[True, False]}\n",
    "grid_lm = GridSearchCV(lm, parameters, cv = n_cv, verbose = 1 , scoring = score_calc)\n",
    "grid_lm.fit(X, y)\n",
    "sc_lm = cv_best_score(grid_lm)"
   ]
  },
  {
   "cell_type": "code",
   "execution_count": 9,
   "metadata": {},
   "outputs": [
    {
     "name": "stdout",
     "output_type": "stream",
     "text": [
      "Fitting 5 folds for each of 8 candidates, totalling 40 fits\n",
      "0.13609714240958165\n"
     ]
    },
    {
     "name": "stderr",
     "output_type": "stream",
     "text": [
      "[Parallel(n_jobs=1)]: Using backend SequentialBackend with 1 concurrent workers.\n",
      "[Parallel(n_jobs=1)]: Done  40 out of  40 | elapsed:    0.2s finished\n"
     ]
    },
    {
     "data": {
      "text/plain": [
       "0.13609714240958165"
      ]
     },
     "execution_count": 9,
     "metadata": {},
     "output_type": "execute_result"
    }
   ],
   "source": [
    "lm_sc = LinearRegression()\n",
    "parameters = {'fit_intercept':[True,False], 'normalize':[True,False], 'copy_X':[True, False]}\n",
    "grid_lm_sc = GridSearchCV(lm_sc, parameters, cv = n_cv, verbose = 1 , scoring = score_calc)\n",
    "grid_lm_sc.fit(X_sc, y)\n",
    "sc_lm_sc = cv_best_score(grid_lm_sc)\n",
    "sc_lm_sc"
   ]
  },
  {
   "cell_type": "code",
   "execution_count": 10,
   "metadata": {},
   "outputs": [],
   "source": [
    "#Note: Right now, the mean imputation isn't needed but I hit a few bumps along the way so it's there as a fail-safe. Will come back to this later.\n",
    "lm_all = LinearRegression()\n",
    "lm_all.fit(X, y)\n",
    "pred_lm_all = lm_all.predict(X_test)\n",
    "pred_lm_all[pred_lm_all < 0] = pred_lm_all.mean()"
   ]
  },
  {
   "cell_type": "code",
   "execution_count": 11,
   "metadata": {},
   "outputs": [],
   "source": [
    "submit_lm = pd.DataFrame()\n",
    "submit_lm['Id'] = test_ids\n",
    "submit_lm['SalePrice'] = pred_lm_all\n",
    "submit_lm['SalePrice'] = np.exp(submit_lm['SalePrice'])\n",
    "submit_lm.to_csv('submit_lm.csv',index=False)"
   ]
  },
  {
   "cell_type": "markdown",
   "metadata": {},
   "source": [
    "# Ridge"
   ]
  },
  {
   "cell_type": "code",
   "execution_count": 12,
   "metadata": {},
   "outputs": [
    {
     "name": "stdout",
     "output_type": "stream",
     "text": [
      "Fitting 5 folds for each of 48 candidates, totalling 240 fits\n"
     ]
    },
    {
     "name": "stderr",
     "output_type": "stream",
     "text": [
      "[Parallel(n_jobs=1)]: Using backend SequentialBackend with 1 concurrent workers.\n"
     ]
    },
    {
     "name": "stdout",
     "output_type": "stream",
     "text": [
      "0.13608446315823144\n"
     ]
    },
    {
     "name": "stderr",
     "output_type": "stream",
     "text": [
      "[Parallel(n_jobs=1)]: Done 240 out of 240 | elapsed:    1.1s finished\n"
     ]
    }
   ],
   "source": [
    "ridge = Ridge()\n",
    "parameters = {'alpha':[0.001,0.005,0.01,0.1,0.5,1], 'normalize':[True,False], 'tol':[1e-06,5e-06,1e-05,5e-05]}\n",
    "grid_ridge = GridSearchCV(ridge, parameters, cv = n_cv, verbose = 1, scoring = score_calc)\n",
    "grid_ridge.fit(X, y)\n",
    "sc_ridge = cv_best_score(grid_ridge)"
   ]
  },
  {
   "cell_type": "code",
   "execution_count": 13,
   "metadata": {},
   "outputs": [
    {
     "name": "stderr",
     "output_type": "stream",
     "text": [
      "[Parallel(n_jobs=1)]: Using backend SequentialBackend with 1 concurrent workers.\n"
     ]
    },
    {
     "name": "stdout",
     "output_type": "stream",
     "text": [
      "Fitting 5 folds for each of 48 candidates, totalling 240 fits\n",
      "0.13608446315823153\n"
     ]
    },
    {
     "name": "stderr",
     "output_type": "stream",
     "text": [
      "[Parallel(n_jobs=1)]: Done 240 out of 240 | elapsed:    0.9s finished\n"
     ]
    }
   ],
   "source": [
    "ridge_sc = Ridge()\n",
    "parameters = {'alpha':[0.001,0.005,0.01,0.1,0.5,1], 'normalize':[True,False], 'tol':[1e-06,5e-06,1e-05,5e-05]}\n",
    "grid_ridge_sc = GridSearchCV(ridge_sc, parameters, cv=n_cv, verbose=1, scoring = score_calc)\n",
    "grid_ridge_sc.fit(X_sc, y)\n",
    "sc_ridge_sc = cv_best_score(grid_ridge_sc)\n",
    "pred_ridge_all = grid_ridge.predict(X_test)"
   ]
  },
  {
   "cell_type": "code",
   "execution_count": 14,
   "metadata": {},
   "outputs": [],
   "source": [
    "submit_ridge = pd.DataFrame()\n",
    "submit_ridge['Id'] = test_ids\n",
    "submit_ridge['SalePrice'] = pred_ridge_all\n",
    "submit_ridge['SalePrice'] = np.exp(submit_ridge['SalePrice'])\n",
    "submit_ridge.to_csv('submit_ridge.csv',index = False)"
   ]
  },
  {
   "cell_type": "markdown",
   "metadata": {},
   "source": [
    "# Lasso"
   ]
  },
  {
   "cell_type": "code",
   "execution_count": 15,
   "metadata": {},
   "outputs": [
    {
     "name": "stderr",
     "output_type": "stream",
     "text": [
      "[Parallel(n_jobs=1)]: Using backend SequentialBackend with 1 concurrent workers.\n"
     ]
    },
    {
     "name": "stdout",
     "output_type": "stream",
     "text": [
      "Fitting 5 folds for each of 72 candidates, totalling 360 fits\n",
      "0.1363615362328576\n"
     ]
    },
    {
     "name": "stderr",
     "output_type": "stream",
     "text": [
      "[Parallel(n_jobs=1)]: Done 360 out of 360 | elapsed:    2.0s finished\n"
     ]
    }
   ],
   "source": [
    "lasso = Lasso()\n",
    "parameters = {'alpha':[1e-03,0.01,0.1,0.5,0.8,1], 'normalize':[True,False], 'tol':[1e-06,1e-05,5e-05,1e-04,5e-04,1e-03]}\n",
    "grid_lasso = GridSearchCV(lasso, parameters, cv = n_cv, verbose = 1, scoring = score_calc)\n",
    "grid_lasso.fit(X, y)\n",
    "sc_lasso = cv_best_score(grid_lasso)\n",
    "pred_lasso_all = grid_lasso.predict(X_test)"
   ]
  },
  {
   "cell_type": "code",
   "execution_count": 16,
   "metadata": {},
   "outputs": [],
   "source": [
    "submit_lasso = pd.DataFrame()\n",
    "submit_lasso['Id'] = test_ids\n",
    "submit_lasso['SalePrice'] = pred_lasso_all\n",
    "submit_lasso['SalePrice'] = np.exp(submit_lasso['SalePrice'])\n",
    "submit_lasso.to_csv('submit_lasso.csv',index=False)"
   ]
  },
  {
   "cell_type": "markdown",
   "metadata": {},
   "source": [
    "# EslasticNet"
   ]
  },
  {
   "cell_type": "code",
   "execution_count": 17,
   "metadata": {},
   "outputs": [
    {
     "name": "stderr",
     "output_type": "stream",
     "text": [
      "[Parallel(n_jobs=1)]: Using backend SequentialBackend with 1 concurrent workers.\n"
     ]
    },
    {
     "name": "stdout",
     "output_type": "stream",
     "text": [
      "Fitting 5 folds for each of 72 candidates, totalling 360 fits\n",
      "0.13716480990213142\n"
     ]
    },
    {
     "name": "stderr",
     "output_type": "stream",
     "text": [
      "[Parallel(n_jobs=1)]: Done 360 out of 360 | elapsed:    1.7s finished\n"
     ]
    }
   ],
   "source": [
    "enet = ElasticNet()\n",
    "parameters = {'alpha' :[0.1,1.0,10], 'max_iter' :[1000000], 'l1_ratio':[0.04,0.05], \n",
    "              'fit_intercept' : [False,True], 'normalize':[True,False], 'tol':[1e-02,1e-03,1e-04]}\n",
    "grid_enet = GridSearchCV(enet, parameters, cv = n_cv, verbose = 1, scoring = score_calc)\n",
    "grid_enet.fit(X_sc, y_sc)\n",
    "sc_enet = cv_best_score(grid_enet)\n",
    "pred_enet = grid_enet.predict(X_test_sc)"
   ]
  },
  {
   "cell_type": "code",
   "execution_count": 18,
   "metadata": {},
   "outputs": [],
   "source": [
    "submit_enet = pd.DataFrame()\n",
    "submit_enet['Id'] = test_ids\n",
    "submit_enet['SalePrice'] = pred_enet\n",
    "submit_enet['SalePrice'] = np.exp(submit_enet['SalePrice'])\n",
    "submit_enet.to_csv('submit_enet.csv',index = False)"
   ]
  },
  {
   "cell_type": "markdown",
   "metadata": {},
   "source": [
    "# SGD"
   ]
  },
  {
   "cell_type": "code",
   "execution_count": 19,
   "metadata": {},
   "outputs": [
    {
     "name": "stdout",
     "output_type": "stream",
     "text": [
      "Fitting 5 folds for each of 1 candidates, totalling 5 fits\n",
      "0.13657655634088228\n"
     ]
    },
    {
     "name": "stderr",
     "output_type": "stream",
     "text": [
      "[Parallel(n_jobs=1)]: Using backend SequentialBackend with 1 concurrent workers.\n",
      "[Parallel(n_jobs=1)]: Done   5 out of   5 | elapsed:    0.0s finished\n"
     ]
    }
   ],
   "source": [
    "sgd = SGDRegressor()\n",
    "parameters = {'max_iter' :[10000], \n",
    "              'alpha':[1e-05], \n",
    "              'epsilon':[1e-02], \n",
    "              'fit_intercept' : [True]}\n",
    "grid_sgd = GridSearchCV(sgd, parameters, cv = n_cv, verbose = 1, scoring = score_calc)\n",
    "grid_sgd.fit(X_sc, y_sc)\n",
    "sc_sgd = cv_best_score(grid_sgd)\n",
    "pred_sgd = grid_sgd.predict(X_test_sc)"
   ]
  },
  {
   "cell_type": "code",
   "execution_count": 20,
   "metadata": {},
   "outputs": [],
   "source": [
    "submit_sgd = pd.DataFrame()\n",
    "submit_sgd['Id'] = test_ids\n",
    "submit_sgd['SalePrice'] = pred_sgd\n",
    "submit_sgd['SalePrice'] = np.exp(submit_sgd['SalePrice'])\n",
    "submit_sgd.to_csv('submit_sgd.csv',index = False)"
   ]
  },
  {
   "cell_type": "markdown",
   "metadata": {},
   "source": [
    "# DecisionTree"
   ]
  },
  {
   "cell_type": "code",
   "execution_count": 21,
   "metadata": {},
   "outputs": [
    {
     "name": "stderr",
     "output_type": "stream",
     "text": [
      "[Parallel(n_jobs=1)]: Using backend SequentialBackend with 1 concurrent workers.\n"
     ]
    },
    {
     "name": "stdout",
     "output_type": "stream",
     "text": [
      "Fitting 5 folds for each of 480 candidates, totalling 2400 fits\n",
      "0.18255842938057673\n"
     ]
    },
    {
     "name": "stderr",
     "output_type": "stream",
     "text": [
      "[Parallel(n_jobs=1)]: Done 2400 out of 2400 | elapsed:   16.5s finished\n"
     ]
    }
   ],
   "source": [
    "param_grid = {'max_depth' : [7,8,9,10] , \n",
    "              'max_features' : [11,12,13,14], \n",
    "              'max_leaf_nodes' : [None, 12,15,18,20],\n",
    "              'min_samples_split' : [20,25,30],\n",
    "              'presort': [False,True] , 'random_state': [5]}       \n",
    "grid_dtree = GridSearchCV(DecisionTreeRegressor(), param_grid, cv = n_cv, refit = True, verbose = 1, scoring = score_calc)\n",
    "grid_dtree.fit(X, y)\n",
    "sc_dtree = cv_best_score(grid_dtree)\n",
    "pred_dtree = grid_dtree.predict(X_test)"
   ]
  },
  {
   "cell_type": "code",
   "execution_count": 22,
   "metadata": {},
   "outputs": [],
   "source": [
    "submit_dtree = pd.DataFrame()\n",
    "submit_dtree['Id'] = test_ids\n",
    "submit_dtree['SalePrice'] = pred_dtree\n",
    "submit_dtree['SalePrice'] = np.exp(submit_dtree['SalePrice'])\n",
    "submit_dtree.to_csv('submit_dtree.csv',index = False)"
   ]
  },
  {
   "cell_type": "markdown",
   "metadata": {},
   "source": [
    "# RandomForest"
   ]
  },
  {
   "cell_type": "code",
   "execution_count": 23,
   "metadata": {},
   "outputs": [
    {
     "name": "stderr",
     "output_type": "stream",
     "text": [
      "[Parallel(n_jobs=1)]: Using backend SequentialBackend with 1 concurrent workers.\n"
     ]
    },
    {
     "name": "stdout",
     "output_type": "stream",
     "text": [
      "Fitting 5 folds for each of 8 candidates, totalling 40 fits\n"
     ]
    },
    {
     "name": "stderr",
     "output_type": "stream",
     "text": [
      "[Parallel(n_jobs=1)]: Done  40 out of  40 | elapsed:   14.6s finished\n"
     ]
    },
    {
     "name": "stdout",
     "output_type": "stream",
     "text": [
      "0.14621609629650129\n"
     ]
    }
   ],
   "source": [
    "param_grid = {'min_samples_split' : [3,4,6,10], \n",
    "              'n_estimators' : [70,100], \n",
    "              'random_state': [5]}\n",
    "grid_rf = GridSearchCV(RandomForestRegressor(), param_grid, cv = n_cv, refit = True, verbose=1, scoring = score_calc)\n",
    "grid_rf.fit(X, y)\n",
    "sc_rf = cv_best_score(grid_rf)\n",
    "pred_rf = grid_rf.predict(X_test)"
   ]
  },
  {
   "cell_type": "code",
   "execution_count": 24,
   "metadata": {},
   "outputs": [],
   "source": [
    "submit_rf = pd.DataFrame()\n",
    "submit_rf['Id'] = test_ids\n",
    "submit_rf['SalePrice'] = pred_rf\n",
    "submit_rf['SalePrice'] = np.exp(submit_rf['SalePrice'])\n",
    "submit_rf.to_csv('submit_rf.csv',index = False)"
   ]
  },
  {
   "cell_type": "markdown",
   "metadata": {},
   "source": [
    "# KNN\n"
   ]
  },
  {
   "cell_type": "code",
   "execution_count": 25,
   "metadata": {},
   "outputs": [
    {
     "name": "stdout",
     "output_type": "stream",
     "text": [
      "Fitting 5 folds for each of 42 candidates, totalling 210 fits\n"
     ]
    },
    {
     "name": "stderr",
     "output_type": "stream",
     "text": [
      "[Parallel(n_jobs=1)]: Using backend SequentialBackend with 1 concurrent workers.\n"
     ]
    },
    {
     "name": "stdout",
     "output_type": "stream",
     "text": [
      "0.15624169792377263\n"
     ]
    },
    {
     "name": "stderr",
     "output_type": "stream",
     "text": [
      "[Parallel(n_jobs=1)]: Done 210 out of 210 | elapsed:    2.4s finished\n"
     ]
    }
   ],
   "source": [
    "param_grid = {'n_neighbors' : [3,4,5,6,7,10,15] ,    \n",
    "              'weights' : ['uniform','distance'] ,\n",
    "              'algorithm' : ['ball_tree', 'kd_tree', 'brute']}\n",
    "grid_knn = GridSearchCV(KNeighborsRegressor(), param_grid, cv = n_cv, refit = True, verbose = 1, scoring = score_calc)\n",
    "grid_knn.fit(X_sc, y_sc)\n",
    "sc_knn = cv_best_score(grid_knn)\n",
    "pred_knn = grid_knn.predict(X_test_sc)"
   ]
  },
  {
   "cell_type": "code",
   "execution_count": 26,
   "metadata": {},
   "outputs": [],
   "source": [
    "submit_knn = pd.DataFrame()\n",
    "submit_knn['Id'] = test_ids\n",
    "submit_knn['SalePrice'] = pred_knn\n",
    "submit_knn['SalePrice'] = np.exp(submit_knn['SalePrice'])\n",
    "submit_knn.to_csv('submit_knn.csv',index = False)"
   ]
  },
  {
   "cell_type": "markdown",
   "metadata": {},
   "source": [
    "# Compare Models"
   ]
  },
  {
   "cell_type": "code",
   "execution_count": 65,
   "metadata": {},
   "outputs": [
    {
     "data": {
      "text/html": [
       "<div>\n",
       "<style scoped>\n",
       "    .dataframe tbody tr th:only-of-type {\n",
       "        vertical-align: middle;\n",
       "    }\n",
       "\n",
       "    .dataframe tbody tr th {\n",
       "        vertical-align: top;\n",
       "    }\n",
       "\n",
       "    .dataframe thead th {\n",
       "        text-align: right;\n",
       "    }\n",
       "</style>\n",
       "<table border=\"1\" class=\"dataframe\">\n",
       "  <thead>\n",
       "    <tr style=\"text-align: right;\">\n",
       "      <th></th>\n",
       "      <th>Model:</th>\n",
       "      <th>sc_lm_sc</th>\n",
       "      <th>sc_ridge_sc</th>\n",
       "      <th>sc_lasso</th>\n",
       "      <th>sc_enet</th>\n",
       "      <th>sc_sgd</th>\n",
       "      <th>sc_dtree</th>\n",
       "      <th>sc_rf</th>\n",
       "      <th>sc_knn</th>\n",
       "    </tr>\n",
       "  </thead>\n",
       "  <tbody>\n",
       "    <tr>\n",
       "      <th>0</th>\n",
       "      <td>RMSE</td>\n",
       "      <td>0.136097</td>\n",
       "      <td>0.136084</td>\n",
       "      <td>0.136362</td>\n",
       "      <td>0.137165</td>\n",
       "      <td>0.136577</td>\n",
       "      <td>0.182558</td>\n",
       "      <td>0.146216</td>\n",
       "      <td>0.156242</td>\n",
       "    </tr>\n",
       "    <tr>\n",
       "      <th>1</th>\n",
       "      <td>Kaggle</td>\n",
       "      <td>0.147310</td>\n",
       "      <td>0.147480</td>\n",
       "      <td>0.147250</td>\n",
       "      <td>0.149690</td>\n",
       "      <td>0.146940</td>\n",
       "      <td>0.195230</td>\n",
       "      <td>0.155230</td>\n",
       "      <td>0.177690</td>\n",
       "    </tr>\n",
       "  </tbody>\n",
       "</table>\n",
       "</div>"
      ],
      "text/plain": [
       "   Model:  sc_lm_sc  sc_ridge_sc  sc_lasso   sc_enet    sc_sgd  sc_dtree  \\\n",
       "0    RMSE  0.136097     0.136084  0.136362  0.137165  0.136577  0.182558   \n",
       "1  Kaggle  0.147310     0.147480  0.147250  0.149690  0.146940  0.195230   \n",
       "\n",
       "      sc_rf    sc_knn  \n",
       "0  0.146216  0.156242  \n",
       "1  0.155230  0.177690  "
      ]
     },
     "execution_count": 65,
     "metadata": {},
     "output_type": "execute_result"
    }
   ],
   "source": [
    "rmse = [sc_lm_sc, \n",
    "        sc_ridge_sc, \n",
    "        sc_lasso, \n",
    "        sc_enet,\n",
    "        sc_sgd, \n",
    "        sc_dtree, \n",
    "        sc_rf, \n",
    "        sc_knn]\n",
    "rmse = [_ * 100 for _ in rmse]\n",
    "regressors = ['Linear','Ridge','Lasso','E-Net','SGD','DecTree','RndmFrst','KNN']\n",
    "\n",
    "df_rmse = pd.DataFrame({\n",
    "    'Model:': ['RMSE', 'Kaggle'],\n",
    "    'sc_lm_sc': [sc_lm_sc, .14731],\n",
    "    'sc_ridge_sc': [sc_ridge_sc, .14748 ],\n",
    "    'sc_lasso': [sc_lasso, .14725],\n",
    "    'sc_enet':[sc_enet, .14969],\n",
    "    'sc_sgd': [sc_sgd,  0.14694],\n",
    "    'sc_dtree': [sc_dtree, 0.19523],\n",
    "    'sc_rf': [sc_rf, 0.15523],\n",
    "    'sc_knn': [sc_knn, 0.17769],\n",
    "})\n",
    "df_rmse"
   ]
  },
  {
   "cell_type": "code",
   "execution_count": 37,
   "metadata": {},
   "outputs": [
    {
     "data": {
      "image/png": "[encoded data removed]",
      "text/plain": [
       "<Figure size 648x360 with 1 Axes>"
      ]
     },
     "metadata": {},
     "output_type": "display_data"
    }
   ],
   "source": [
    "fig, ax = plt.subplots()\n",
    "fig.set_size_inches(9,5)\n",
    "splot = sns.barplot(x = regressors, y = rmse, ax = ax, palette = 'Blues')\n",
    "#sns.set_style(\"whitegrid\", {'axes.grid' : False})\n",
    "plt.ylabel('RMSE (%)')\n",
    "for p in splot.patches:\n",
    "    splot.annotate(format(p.get_height(), '.2f'), \n",
    "                   (p.get_x() + p.get_width() / 2., p.get_height()), \n",
    "                   ha = 'center', va = 'center', xytext = (0, 10), textcoords = 'offset points')\n",
    "#plt.show()"
   ]
  },
  {
   "cell_type": "code",
   "execution_count": 67,
   "metadata": {},
   "outputs": [
    {
     "data": {
      "text/html": [
       "<div>\n",
       "<style scoped>\n",
       "    .dataframe tbody tr th:only-of-type {\n",
       "        vertical-align: middle;\n",
       "    }\n",
       "\n",
       "    .dataframe tbody tr th {\n",
       "        vertical-align: top;\n",
       "    }\n",
       "\n",
       "    .dataframe thead th {\n",
       "        text-align: right;\n",
       "    }\n",
       "</style>\n",
       "<table border=\"1\" class=\"dataframe\">\n",
       "  <thead>\n",
       "    <tr style=\"text-align: right;\">\n",
       "      <th></th>\n",
       "      <th>Linear</th>\n",
       "      <th>Ridge</th>\n",
       "      <th>Lasso</th>\n",
       "      <th>ElaNet</th>\n",
       "      <th>SGD</th>\n",
       "      <th>DTr</th>\n",
       "      <th>RF</th>\n",
       "      <th>KNN</th>\n",
       "    </tr>\n",
       "  </thead>\n",
       "  <tbody>\n",
       "    <tr>\n",
       "      <th>Linear</th>\n",
       "      <td>1.000000</td>\n",
       "      <td>0.999988</td>\n",
       "      <td>0.999768</td>\n",
       "      <td>0.999372</td>\n",
       "      <td>0.999817</td>\n",
       "      <td>0.940926</td>\n",
       "      <td>0.980166</td>\n",
       "      <td>0.963959</td>\n",
       "    </tr>\n",
       "    <tr>\n",
       "      <th>Ridge</th>\n",
       "      <td>0.999988</td>\n",
       "      <td>1.000000</td>\n",
       "      <td>0.999816</td>\n",
       "      <td>0.999519</td>\n",
       "      <td>0.999830</td>\n",
       "      <td>0.940705</td>\n",
       "      <td>0.980126</td>\n",
       "      <td>0.964376</td>\n",
       "    </tr>\n",
       "    <tr>\n",
       "      <th>Lasso</th>\n",
       "      <td>0.999768</td>\n",
       "      <td>0.999816</td>\n",
       "      <td>1.000000</td>\n",
       "      <td>0.999659</td>\n",
       "      <td>0.999613</td>\n",
       "      <td>0.940989</td>\n",
       "      <td>0.980540</td>\n",
       "      <td>0.964392</td>\n",
       "    </tr>\n",
       "    <tr>\n",
       "      <th>ElaNet</th>\n",
       "      <td>0.999372</td>\n",
       "      <td>0.999519</td>\n",
       "      <td>0.999659</td>\n",
       "      <td>1.000000</td>\n",
       "      <td>0.999256</td>\n",
       "      <td>0.939788</td>\n",
       "      <td>0.980019</td>\n",
       "      <td>0.965968</td>\n",
       "    </tr>\n",
       "    <tr>\n",
       "      <th>SGD</th>\n",
       "      <td>0.999817</td>\n",
       "      <td>0.999830</td>\n",
       "      <td>0.999613</td>\n",
       "      <td>0.999256</td>\n",
       "      <td>1.000000</td>\n",
       "      <td>0.940400</td>\n",
       "      <td>0.979742</td>\n",
       "      <td>0.964236</td>\n",
       "    </tr>\n",
       "    <tr>\n",
       "      <th>DTr</th>\n",
       "      <td>0.940926</td>\n",
       "      <td>0.940705</td>\n",
       "      <td>0.940989</td>\n",
       "      <td>0.939788</td>\n",
       "      <td>0.940400</td>\n",
       "      <td>1.000000</td>\n",
       "      <td>0.968598</td>\n",
       "      <td>0.920521</td>\n",
       "    </tr>\n",
       "    <tr>\n",
       "      <th>RF</th>\n",
       "      <td>0.980166</td>\n",
       "      <td>0.980126</td>\n",
       "      <td>0.980540</td>\n",
       "      <td>0.980019</td>\n",
       "      <td>0.979742</td>\n",
       "      <td>0.968598</td>\n",
       "      <td>1.000000</td>\n",
       "      <td>0.961129</td>\n",
       "    </tr>\n",
       "    <tr>\n",
       "      <th>KNN</th>\n",
       "      <td>0.963959</td>\n",
       "      <td>0.964376</td>\n",
       "      <td>0.964392</td>\n",
       "      <td>0.965968</td>\n",
       "      <td>0.964236</td>\n",
       "      <td>0.920521</td>\n",
       "      <td>0.961129</td>\n",
       "      <td>1.000000</td>\n",
       "    </tr>\n",
       "  </tbody>\n",
       "</table>\n",
       "</div>"
      ],
      "text/plain": [
       "          Linear     Ridge     Lasso    ElaNet       SGD       DTr        RF  \\\n",
       "Linear  1.000000  0.999988  0.999768  0.999372  0.999817  0.940926  0.980166   \n",
       "Ridge   0.999988  1.000000  0.999816  0.999519  0.999830  0.940705  0.980126   \n",
       "Lasso   0.999768  0.999816  1.000000  0.999659  0.999613  0.940989  0.980540   \n",
       "ElaNet  0.999372  0.999519  0.999659  1.000000  0.999256  0.939788  0.980019   \n",
       "SGD     0.999817  0.999830  0.999613  0.999256  1.000000  0.940400  0.979742   \n",
       "DTr     0.940926  0.940705  0.940989  0.939788  0.940400  1.000000  0.968598   \n",
       "RF      0.980166  0.980126  0.980540  0.980019  0.979742  0.968598  1.000000   \n",
       "KNN     0.963959  0.964376  0.964392  0.965968  0.964236  0.920521  0.961129   \n",
       "\n",
       "             KNN  \n",
       "Linear  0.963959  \n",
       "Ridge   0.964376  \n",
       "Lasso   0.964392  \n",
       "ElaNet  0.965968  \n",
       "SGD     0.964236  \n",
       "DTr     0.920521  \n",
       "RF      0.961129  \n",
       "KNN     1.000000  "
      ]
     },
     "execution_count": 67,
     "metadata": {},
     "output_type": "execute_result"
    }
   ],
   "source": [
    "predictions = {'Linear': pred_lm_all, 'Ridge': pred_ridge_all, 'Lasso': pred_lasso_all,\n",
    "               'ElaNet': pred_enet, 'SGD': pred_sgd, 'DTr': pred_dtree, 'RF': pred_rf,\n",
    "               'KNN': pred_knn}\n",
    "df_predictions = pd.DataFrame(data = predictions) \n",
    "df_predictions.corr()"
   ]
  },
  {
   "cell_type": "code",
   "execution_count": null,
   "metadata": {},
   "outputs": [],
   "source": []
  },
  {
   "cell_type": "code",
   "execution_count": null,
   "metadata": {},
   "outputs": [],
   "source": []
  }
 ],
 "metadata": {
  "kernelspec": {
   "display_name": "Python 3",
   "language": "python",
   "name": "python3"
  },
  "language_info": {
   "codemirror_mode": {
    "name": "ipython",
    "version": 3
   },
   "file_extension": ".py",
   "mimetype": "text/x-python",
   "name": "python",
   "nbconvert_exporter": "python",
   "pygments_lexer": "ipython3",
   "version": "3.7.4"
  }
 },
 "nbformat": 4,
 "nbformat_minor": 2
}
